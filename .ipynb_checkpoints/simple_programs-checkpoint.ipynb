{
 "cells": [
  {
   "cell_type": "markdown",
   "metadata": {},
   "source": [
    "### The program takes the elements of the list one by one and displays the average of the elements of the list."
   ]
  },
  {
   "cell_type": "code",
   "execution_count": 6,
   "metadata": {},
   "outputs": [
    {
     "name": "stdout",
     "output_type": "stream",
     "text": [
      "Elements of list : 45 56 78\n",
      "59.67\n"
     ]
    }
   ],
   "source": [
    "lis = [int(x) for x in input('Elements of list : ').split()]\n",
    "print('{:.2f}'.format(sum(lis)/len(lis)))"
   ]
  },
  {
   "cell_type": "markdown",
   "metadata": {},
   "source": [
    "### The program takes both the values from the user and swaps them without using temporary variable."
   ]
  },
  {
   "cell_type": "code",
   "execution_count": 8,
   "metadata": {},
   "outputs": [
    {
     "name": "stdout",
     "output_type": "stream",
     "text": [
      "a is 20 b is 10\n"
     ]
    }
   ],
   "source": [
    "a= 10\n",
    "b= 20\n",
    "a,b = b,a\n",
    "print(f'a is {a} b is {b}')"
   ]
  },
  {
   "cell_type": "code",
   "execution_count": 15,
   "metadata": {},
   "outputs": [
    {
     "name": "stdout",
     "output_type": "stream",
     "text": [
      "a is 20 b is 10\n"
     ]
    }
   ],
   "source": [
    "a= 10\n",
    "b= 20\n",
    "a = a+b\n",
    "b= a-b\n",
    "a= a-b\n",
    "print(f'a is {a} b is {b}')"
   ]
  },
  {
   "cell_type": "code",
   "execution_count": 21,
   "metadata": {},
   "outputs": [
    {
     "name": "stdout",
     "output_type": "stream",
     "text": [
      "a is 20 b is 10\n"
     ]
    }
   ],
   "source": [
    "a= 10\n",
    "b= 20\n",
    "a= a^b\n",
    "b= a^b\n",
    "a= a^b\n",
    "print(f'a is {a} b is {b}')"
   ]
  },
  {
   "cell_type": "markdown",
   "metadata": {},
   "source": [
    "### The program takes a number n and computes n+nn+nnn."
   ]
  },
  {
   "cell_type": "code",
   "execution_count": 29,
   "metadata": {},
   "outputs": [
    {
     "name": "stdout",
     "output_type": "stream",
     "text": [
      "2\n",
      "14\n"
     ]
    }
   ],
   "source": [
    "n = int(input())\n",
    "print(n+(n*n)+(n*n*n))"
   ]
  },
  {
   "cell_type": "code",
   "execution_count": 39,
   "metadata": {},
   "outputs": [
    {
     "name": "stdout",
     "output_type": "stream",
     "text": [
      "2 4\n",
      "31\n"
     ]
    }
   ],
   "source": [
    "#compute 1+n+n*n+n*n*n+...+n.....n(m)\n",
    "n, m = list(map(int,input().split()))\n",
    "c=0\n",
    "for i in range(0,m+1):\n",
    "    c+=n**i\n",
    "print(c)"
   ]
  },
  {
   "cell_type": "markdown",
   "metadata": {},
   "source": [
    "### The program takes three distinct numbers and prints all possible combinations from the digits."
   ]
  },
  {
   "cell_type": "code",
   "execution_count": 51,
   "metadata": {},
   "outputs": [
    {
     "name": "stdout",
     "output_type": "stream",
     "text": [
      "1 2 6\n",
      "[126, 162, 216, 261, 612, 621]\n"
     ]
    }
   ],
   "source": [
    "from itertools import permutations\n",
    "n= [x for x in input().split()]\n",
    "fin= list(map(list, permutations(''.join(n), len(n))))\n",
    "final= [int(''.join(i)) for i in fin]\n",
    "print(final)\n"
   ]
  },
  {
   "cell_type": "markdown",
   "metadata": {},
   "source": [
    "### The program takes in a number and finds the sum of digits in a number."
   ]
  },
  {
   "cell_type": "code",
   "execution_count": 55,
   "metadata": {},
   "outputs": [
    {
     "name": "stdout",
     "output_type": "stream",
     "text": [
      "12\n",
      "Sum :  3\n"
     ]
    }
   ],
   "source": [
    "n = int(input())\n",
    "tot = 0\n",
    "while(n>0):\n",
    "    dig = n%10\n",
    "    tot+= dig\n",
    "    n=n//10\n",
    "print('Sum : ',tot)"
   ]
  },
  {
   "cell_type": "markdown",
   "metadata": {},
   "source": [
    "### The program takes in an integer and prints the smallest divisor of the integer."
   ]
  },
  {
   "cell_type": "code",
   "execution_count": 60,
   "metadata": {},
   "outputs": [
    {
     "name": "stdout",
     "output_type": "stream",
     "text": [
      "75\n",
      "3\n"
     ]
    }
   ],
   "source": [
    "n = int(input())\n",
    "for i in range(2, n//2):\n",
    "    if (n%i==0):\n",
    "        break\n",
    "print(i)"
   ]
  },
  {
   "cell_type": "markdown",
   "metadata": {},
   "source": [
    "### The program takes a number n and prints and computes the series “1+2+…+n=”."
   ]
  },
  {
   "cell_type": "code",
   "execution_count": 65,
   "metadata": {},
   "outputs": [
    {
     "name": "stdout",
     "output_type": "stream",
     "text": [
      "4\n",
      "Sum of series :  10\n"
     ]
    }
   ],
   "source": [
    "num = int(input())\n",
    "tot = 0\n",
    "for i in range(num+1):\n",
    "    tot+=i\n",
    "print('Sum of series : ',tot)"
   ]
  },
  {
   "cell_type": "markdown",
   "metadata": {},
   "source": [
    "### Find the kth largest number in an array."
   ]
  },
  {
   "cell_type": "code",
   "execution_count": 6,
   "metadata": {},
   "outputs": [
    {
     "name": "stdout",
     "output_type": "stream",
     "text": [
      "9 8 7 6 5 4 3 2 1\n",
      "2\n",
      "2\n"
     ]
    }
   ],
   "source": [
    "arr = [int(x) for x in input().split()]\n",
    "k = int(input())\n",
    "\n",
    "def kele(arr, k):\n",
    "    arr.sort()\n",
    "    print(arr[k-1])\n",
    "    \n",
    "kele(arr, k)"
   ]
  },
  {
   "cell_type": "markdown",
   "metadata": {},
   "source": [
    "### Add two dictionaries"
   ]
  },
  {
   "cell_type": "markdown",
   "metadata": {},
   "source": [
    "#### Adding values for common keys"
   ]
  },
  {
   "cell_type": "code",
   "execution_count": 11,
   "metadata": {},
   "outputs": [
    {
     "name": "stdout",
     "output_type": "stream",
     "text": [
      "{'a':1, 'b':2}\n",
      "{'a':1, 'b':2, 'c':3}\n",
      "{'a': 2, 'b': 4}\n"
     ]
    }
   ],
   "source": [
    "dict1 = eval(input())\n",
    "dict2 = eval(input())\n",
    "\n",
    "for k in dict1:\n",
    "    if k in dict2:\n",
    "        dict1[k] = dict1[k] + dict2[k]\n",
    "    else:\n",
    "        pass\n",
    "print(dict1)"
   ]
  },
  {
   "cell_type": "markdown",
   "metadata": {},
   "source": [
    "#### Combine two dictionary and adding values for common keys "
   ]
  },
  {
   "cell_type": "code",
   "execution_count": 16,
   "metadata": {},
   "outputs": [
    {
     "name": "stdout",
     "output_type": "stream",
     "text": [
      "{'a':1, 'b':2, 'c':3, 'd':9}\n",
      "{'a':2, 'b':3, 'r':8, 'q':7}\n",
      "Counter({'d': 9, 'r': 8, 'q': 7, 'b': 5, 'a': 3, 'c': 3})\n"
     ]
    }
   ],
   "source": [
    "from collections import Counter\n",
    "\n",
    "dict1 = eval(input())\n",
    "dict2 = eval(input())\n",
    "\n",
    "dict0 = Counter(dict1) + Counter(dict2)\n",
    "print(dict0)\n"
   ]
  },
  {
   "cell_type": "markdown",
   "metadata": {},
   "source": [
    "### String palindrome"
   ]
  },
  {
   "cell_type": "code",
   "execution_count": 110,
   "metadata": {},
   "outputs": [
    {
     "name": "stdout",
     "output_type": "stream",
     "text": [
      "yes\n"
     ]
    }
   ],
   "source": [
    "s = 'A Dog is si goD A'.lower()\n",
    "s = ''.join(s.split())\n",
    "\n",
    "rev = reversed(s)\n",
    "if list(s)==list(rev):\n",
    "    print('yes')\n",
    "else:\n",
    "    print('False')"
   ]
  },
  {
   "cell_type": "markdown",
   "metadata": {},
   "source": [
    "### The program takes a range and prints prime numbers in that range using Sieve of Eratosthenes."
   ]
  },
  {
   "cell_type": "code",
   "execution_count": 5,
   "metadata": {},
   "outputs": [
    {
     "name": "stdout",
     "output_type": "stream",
     "text": [
      "15\n",
      "2\t3\t5\t7\t11\t13\t\n"
     ]
    }
   ],
   "source": [
    "limit = int(input())\n",
    "sieve = set(range(2, limit+1))\n",
    "while sieve:\n",
    "    prime = min(sieve)\n",
    "    print(prime, end = '\\t')\n",
    "    sieve-=set(range(prime, limit+1, prime))\n",
    "print()"
   ]
  },
  {
   "cell_type": "code",
   "execution_count": null,
   "metadata": {},
   "outputs": [],
   "source": []
  }
 ],
 "metadata": {
  "hide_input": false,
  "kernelspec": {
   "display_name": "Python 3",
   "language": "python",
   "name": "python3"
  },
  "language_info": {
   "codemirror_mode": {
    "name": "ipython",
    "version": 3
   },
   "file_extension": ".py",
   "mimetype": "text/x-python",
   "name": "python",
   "nbconvert_exporter": "python",
   "pygments_lexer": "ipython3",
   "version": "3.7.7"
  }
 },
 "nbformat": 4,
 "nbformat_minor": 4
}
