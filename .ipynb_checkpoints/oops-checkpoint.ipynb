{
 "cells": [
  {
   "cell_type": "markdown",
   "metadata": {},
   "source": [
    "# Object Oriented Programming"
   ]
  },
  {
   "cell_type": "markdown",
   "metadata": {},
   "source": [
    "### What is class:\n",
    " In Python every thing is an object. To create objects we required some Model or Plan or Blue print, which is nothing but class.\n",
    "We can write a class to represent properties (attributes) and actions (behaviour) of object. \n",
    "Properties can be represented by variables.\n",
    "Actions can be represented by Methods. \n",
    "Hence class contains both variables and methods\n",
    "\n",
    "Example:"
   ]
  },
  {
   "cell_type": "code",
   "execution_count": 8,
   "metadata": {},
   "outputs": [
    {
     "name": "stdout",
     "output_type": "stream",
     "text": [
      "Hello I am Jack\n",
      "My age is 20\n",
      "My marks are 80\n"
     ]
    }
   ],
   "source": [
    "class Student:\n",
    "    '''Example for class'''\n",
    "    def __init__(self):\n",
    "        self.name = 'Jack'\n",
    "        self.age = 20\n",
    "        self.marks = 80\n",
    "        \n",
    "    def talk(self):\n",
    "        print(f'Hello I am {self.name}')\n",
    "        print(f'My age is {self.age}')\n",
    "        print(f'My marks are {self.marks}')\n",
    "obj = Student()\n",
    "obj.talk()"
   ]
  },
  {
   "cell_type": "markdown",
   "metadata": {},
   "source": [
    "##### Documentation:\n",
    "Documentation string represents description of the class. Within the class doc string is always optional. We can get doc string by using the following 2 ways. \n",
    " \n",
    "1. print(classname.__doc__) \n",
    "2. help(classname) "
   ]
  },
  {
   "cell_type": "code",
   "execution_count": 5,
   "metadata": {},
   "outputs": [
    {
     "name": "stdout",
     "output_type": "stream",
     "text": [
      "This is student class with required data.\n",
      "Help on class Student in module __main__:\n",
      "\n",
      "class Student(builtins.object)\n",
      " |  This is student class with required data.\n",
      " |  \n",
      " |  Data descriptors defined here:\n",
      " |  \n",
      " |  __dict__\n",
      " |      dictionary for instance variables (if defined)\n",
      " |  \n",
      " |  __weakref__\n",
      " |      list of weak references to the object (if defined)\n",
      "\n"
     ]
    }
   ],
   "source": [
    "class Student:\n",
    "    '''This is student class with required data.'''\n",
    "print(Student.__doc__)\n",
    "help(Student)"
   ]
  },
  {
   "cell_type": "markdown",
   "metadata": {},
   "source": [
    "### Object:\n",
    "Physical existance of a class is nothing but object. We can create any number of objects for a class.\n",
    "\n",
    "##### Syntax:\n",
    "refrencevariable = classname()\n",
    "\n",
    "##### Example:\n",
    "s = Student()"
   ]
  },
  {
   "cell_type": "markdown",
   "metadata": {},
   "source": [
    "### Refrence variable:\n",
    "The variable which can be used to refer object is called reference variable. By using reference variable, we can access properties and methods of object. "
   ]
  },
  {
   "cell_type": "markdown",
   "metadata": {},
   "source": [
    "### Self Variable:\n",
    "self is the default variable which is always pointing to the current object. By using self we can access instance variable ans instance methods of object.\n",
    "\n",
    "##### Note:\n",
    "1. self should be first parameter inside constructor     \n",
    "\n",
    "def __init__(self): \n",
    " \n",
    "2. self should be first parameter inside instance methods    \n",
    "\n",
    "def talk(self):"
   ]
  },
  {
   "cell_type": "markdown",
   "metadata": {},
   "source": [
    "##### Constructor Concept:\n",
    "* Constructor is a special method in python. \n",
    "* The name of the constructor should be __ init __(self) \n",
    "* Constructor will be executed automatically at the time of object creation. \n",
    "* The main purpose of constructor is to declare and initialize instance variables. \n",
    "* Per object constructor will be exeucted only once. \n",
    "* Constructor can take atleast one argument(atleast self) \n",
    "* Constructor is optional and if we are not providing any constructor then python will provide default constructor."
   ]
  },
  {
   "cell_type": "markdown",
   "metadata": {},
   "source": [
    "###### Program to demostrate constructor will execute only once per object."
   ]
  },
  {
   "cell_type": "code",
   "execution_count": 14,
   "metadata": {},
   "outputs": [
    {
     "name": "stdout",
     "output_type": "stream",
     "text": [
      "Constructor execution...\n",
      "Constructor execution...\n",
      "Constructor execution...\n",
      "Method execution...\n"
     ]
    }
   ],
   "source": [
    "class Test:\n",
    "    def __init__(self):\n",
    "        print('Constructor execution...')\n",
    "        \n",
    "    def m1(self):\n",
    "        print('Method execution...')\n",
    "t1 = Test()\n",
    "t2 = Test()\n",
    "t3 = Test()\n",
    "t1.m1()"
   ]
  },
  {
   "cell_type": "markdown",
   "metadata": {},
   "source": [
    "Within the Python class we can represent data by using variables.  There are 3 types of variables are allowed.  \n",
    " \n",
    "1. Instance Variables (Object Level Variables) \n",
    "2. Static Variables (Class Level Variables) \n",
    "3. Local variables (Method Level Variables) "
   ]
  },
  {
   "cell_type": "markdown",
   "metadata": {},
   "source": [
    "### 1.Instance Variable:\n",
    "\n",
    " \n",
    "If the value of a variable is varied from object to object, then such type of variables are called instance variables. \n",
    " \n",
    "For every object a separate copy of instance variables will be created.\n",
    "\n",
    "#### Where we can declare:\n",
    "*.Inside Constructor by using self variable\n",
    "\n",
    "*.Inside Instance Method by using self variable \n",
    "\n",
    "*.Outside of the class by using object reference variable \n",
    " \n"
   ]
  },
  {
   "cell_type": "markdown",
   "metadata": {},
   "source": [
    "#### i) Inside Constructor by using self variable:\n",
    "We can declare instance variables inside a constructor by using self keyword. Once we creates object, automatically these variables will be added to the object. \n",
    "\n",
    "Example:"
   ]
  },
  {
   "cell_type": "code",
   "execution_count": 19,
   "metadata": {},
   "outputs": [
    {
     "name": "stdout",
     "output_type": "stream",
     "text": [
      "{'eno': 100, 'ename': 'Jack', 'esal': 100000}\n"
     ]
    }
   ],
   "source": [
    "class Employee:\n",
    "    def __init__(self):\n",
    "        self.eno=100\n",
    "        self.ename='Jack'\n",
    "        self.esal=100000\n",
    "e=Employee()\n",
    "print(e.__dict__)"
   ]
  },
  {
   "cell_type": "markdown",
   "metadata": {},
   "source": [
    "#### ii) Isnide Instance Method by using self variable:\n",
    "We can also declare instance variables inside instance method by using self variable. If any instance variable declared inside instance method, that instance variable will be added once we call that method.\n",
    "\n",
    "Example:"
   ]
  },
  {
   "cell_type": "code",
   "execution_count": 21,
   "metadata": {},
   "outputs": [
    {
     "name": "stdout",
     "output_type": "stream",
     "text": [
      "{'a': 12, 'b': 21, 'c': 30}\n"
     ]
    }
   ],
   "source": [
    "class Test:\n",
    "    def __init__(self):\n",
    "        self.a = 12\n",
    "        self.b = 21\n",
    "        \n",
    "    def m1(self):\n",
    "        self.c = 30\n",
    "t=Test()\n",
    "t.m1()\n",
    "print(t.__dict__)"
   ]
  },
  {
   "cell_type": "markdown",
   "metadata": {},
   "source": [
    "#### iii) Outside of the class by using object refrence variable:\n",
    "We can also add instance variables outside of a class to a particular object."
   ]
  },
  {
   "cell_type": "code",
   "execution_count": 25,
   "metadata": {},
   "outputs": [
    {
     "name": "stdout",
     "output_type": "stream",
     "text": [
      "{'a': 10, 'b': 20, 'c': 30, 'd': 40, 'e': 50}\n",
      "Access instance variable outside the class 10,20\n"
     ]
    }
   ],
   "source": [
    "class Test:\n",
    "    def __init__(self):\n",
    "        self.a = 10\n",
    "        self.b = 20\n",
    "        self.c = 30\n",
    "        \n",
    "    def m1(self):\n",
    "        self.d = 40\n",
    "        \n",
    "t = Test()\n",
    "t.m1()\n",
    "t.e = 50\n",
    "print(t.__dict__)\n",
    "\n",
    "print(f'Access instance variable outside the class {t.a},{t.b}')"
   ]
  },
  {
   "cell_type": "markdown",
   "metadata": {},
   "source": [
    "#### Delete instance variable from the ob=jet\n",
    "1. Within a class we can delete instance variable as follows \n",
    " \n",
    "       del self.variableName \n",
    " \n",
    "2. From outside of class we can delete instance variables as follows        \n",
    "      \n",
    "       del objectreference.variableName\n",
    "       \n",
    "Example:"
   ]
  },
  {
   "cell_type": "code",
   "execution_count": 28,
   "metadata": {},
   "outputs": [
    {
     "name": "stdout",
     "output_type": "stream",
     "text": [
      "{'b': 20, 'c': 30}\n",
      "{'b': 20}\n"
     ]
    }
   ],
   "source": [
    "class Test:\n",
    "    def __init__(self):\n",
    "        self.a = 10\n",
    "        self.b = 20\n",
    "        self.c = 30\n",
    "        \n",
    "    def m1(self):\n",
    "        del self.a\n",
    "        \n",
    "t = Test()\n",
    "t.m1()\n",
    "print(t.__dict__)\n",
    "del t.c\n",
    "print(t.__dict__)"
   ]
  },
  {
   "cell_type": "markdown",
   "metadata": {},
   "source": [
    "##### Note: \n",
    "The instance variables which are deleted from one object,will not be deleted from other objects"
   ]
  },
  {
   "cell_type": "code",
   "execution_count": 30,
   "metadata": {},
   "outputs": [
    {
     "name": "stdout",
     "output_type": "stream",
     "text": [
      "{'a': 10, 'b': 20, 'c': 30}\n",
      "{'b': 20, 'c': 30}\n"
     ]
    }
   ],
   "source": [
    "class Test:\n",
    "    def __init__(self):\n",
    "        self.a = 10\n",
    "        self.b = 20\n",
    "        self.c = 30\n",
    "        \n",
    "t = Test()\n",
    "t1 = Test()\n",
    "\n",
    "del t1.a\n",
    "print(t.__dict__)\n",
    "print(t1.__dict__)"
   ]
  },
  {
   "cell_type": "code",
   "execution_count": null,
   "metadata": {},
   "outputs": [],
   "source": []
  }
 ],
 "metadata": {
  "hide_input": false,
  "kernelspec": {
   "display_name": "Python 3",
   "language": "python",
   "name": "python3"
  },
  "language_info": {
   "codemirror_mode": {
    "name": "ipython",
    "version": 3
   },
   "file_extension": ".py",
   "mimetype": "text/x-python",
   "name": "python",
   "nbconvert_exporter": "python",
   "pygments_lexer": "ipython3",
   "version": "3.7.7"
  }
 },
 "nbformat": 4,
 "nbformat_minor": 4
}
