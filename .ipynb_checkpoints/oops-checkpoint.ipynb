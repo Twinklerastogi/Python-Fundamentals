{
 "cells": [
  {
   "cell_type": "markdown",
   "metadata": {},
   "source": [
    "# Object Oriented Programming"
   ]
  },
  {
   "cell_type": "markdown",
   "metadata": {},
   "source": [
    "### What is class:\n",
    " In Python every thing is an object. To create objects we required some Model or Plan or Blue print, which is nothing but class.\n",
    "We can write a class to represent properties (attributes) and actions (behaviour) of object. \n",
    "Properties can be represented by variables.\n",
    "Actions can be represented by Methods. \n",
    "Hence class contains both variables and methods\n",
    "\n",
    "Example:"
   ]
  },
  {
   "cell_type": "code",
   "execution_count": 8,
   "metadata": {},
   "outputs": [
    {
     "name": "stdout",
     "output_type": "stream",
     "text": [
      "Hello I am Jack\n",
      "My age is 20\n",
      "My marks are 80\n"
     ]
    }
   ],
   "source": [
    "class Student:\n",
    "    '''Example for class'''\n",
    "    def __init__(self):\n",
    "        self.name = 'Jack'\n",
    "        self.age = 20\n",
    "        self.marks = 80\n",
    "        \n",
    "    def talk(self):\n",
    "        print(f'Hello I am {self.name}')\n",
    "        print(f'My age is {self.age}')\n",
    "        print(f'My marks are {self.marks}')\n",
    "obj = Student()\n",
    "obj.talk()"
   ]
  },
  {
   "cell_type": "markdown",
   "metadata": {},
   "source": [
    "##### Documentation:\n",
    "Documentation string represents description of the class. Within the class doc string is always optional. We can get doc string by using the following 2 ways. \n",
    " \n",
    "1. print(classname.__doc__) \n",
    "2. help(classname) "
   ]
  },
  {
   "cell_type": "code",
   "execution_count": 5,
   "metadata": {},
   "outputs": [
    {
     "name": "stdout",
     "output_type": "stream",
     "text": [
      "This is student class with required data.\n",
      "Help on class Student in module __main__:\n",
      "\n",
      "class Student(builtins.object)\n",
      " |  This is student class with required data.\n",
      " |  \n",
      " |  Data descriptors defined here:\n",
      " |  \n",
      " |  __dict__\n",
      " |      dictionary for instance variables (if defined)\n",
      " |  \n",
      " |  __weakref__\n",
      " |      list of weak references to the object (if defined)\n",
      "\n"
     ]
    }
   ],
   "source": [
    "class Student:\n",
    "    '''This is student class with required data.'''\n",
    "print(Student.__doc__)\n",
    "help(Student)"
   ]
  },
  {
   "cell_type": "markdown",
   "metadata": {},
   "source": [
    "### Object:\n",
    "Physical existance of a class is nothing but object. We can create any number of objects for a class.\n",
    "\n",
    "##### Syntax:\n",
    "refrencevariable = classname()\n",
    "\n",
    "##### Example:\n",
    "s = Student()"
   ]
  },
  {
   "cell_type": "markdown",
   "metadata": {},
   "source": [
    "### Refrence variable:\n",
    "The variable which can be used to refer object is called reference variable. By using reference variable, we can access properties and methods of object. "
   ]
  },
  {
   "cell_type": "markdown",
   "metadata": {},
   "source": [
    "### Self Variable:\n",
    "self is the default variable which is always pointing to the current object. By using self we can access instance variable ans instance methods of object.\n",
    "\n",
    "##### Note:\n",
    "1. self should be first parameter inside constructor     \n",
    "\n",
    "def __init__(self): \n",
    " \n",
    "2. self should be first parameter inside instance methods    \n",
    "\n",
    "def talk(self):"
   ]
  },
  {
   "cell_type": "markdown",
   "metadata": {},
   "source": [
    "##### Constructor Concept:\n",
    "* Constructor is a special method in python. \n",
    "* The name of the constructor should be __ init __(self) \n",
    "* Constructor will be executed automatically at the time of object creation. \n",
    "* The main purpose of constructor is to declare and initialize instance variables. \n",
    "* Per object constructor will be exeucted only once. \n",
    "* Constructor can take atleast one argument(atleast self) \n",
    "* Constructor is optional and if we are not providing any constructor then python will provide default constructor."
   ]
  },
  {
   "cell_type": "markdown",
   "metadata": {},
   "source": [
    "###### Program to demostrate constructor will execute only once per object."
   ]
  },
  {
   "cell_type": "code",
   "execution_count": 14,
   "metadata": {},
   "outputs": [
    {
     "name": "stdout",
     "output_type": "stream",
     "text": [
      "Constructor execution...\n",
      "Constructor execution...\n",
      "Constructor execution...\n",
      "Method execution...\n"
     ]
    }
   ],
   "source": [
    "class Test:\n",
    "    def __init__(self):\n",
    "        print('Constructor execution...')\n",
    "        \n",
    "    def m1(self):\n",
    "        print('Method execution...')\n",
    "t1 = Test()\n",
    "t2 = Test()\n",
    "t3 = Test()\n",
    "t1.m1()"
   ]
  },
  {
   "cell_type": "markdown",
   "metadata": {},
   "source": [
    "Within the Python class we can represent data by using variables.  There are 3 types of variables are allowed.  \n",
    " \n",
    "1. Instance Variables (Object Level Variables) \n",
    "2. Static Variables (Class Level Variables) \n",
    "3. Local variables (Method Level Variables) "
   ]
  },
  {
   "cell_type": "markdown",
   "metadata": {},
   "source": [
    "### 1.Instance Variable:\n",
    "\n",
    " \n",
    "If the value of a variable is varied from object to object, then such type of variables are called instance variables. \n",
    " \n",
    "For every object a separate copy of instance variables will be created.\n",
    "\n",
    "#### Where we can declare:\n",
    "*.Inside Constructor by using self variable\n",
    "\n",
    "*.Inside Instance Method by using self variable \n",
    "\n",
    "*.Outside of the class by using object reference variable \n",
    " \n"
   ]
  },
  {
   "cell_type": "markdown",
   "metadata": {},
   "source": [
    "#### i) Inside Constructor by using self variable:\n",
    "We can declare instance variables inside a constructor by using self keyword. Once we creates object, automatically these variables will be added to the object. \n",
    "\n",
    "Example:"
   ]
  },
  {
   "cell_type": "code",
   "execution_count": 19,
   "metadata": {},
   "outputs": [
    {
     "name": "stdout",
     "output_type": "stream",
     "text": [
      "{'eno': 100, 'ename': 'Jack', 'esal': 100000}\n"
     ]
    }
   ],
   "source": [
    "class Employee:\n",
    "    def __init__(self):\n",
    "        self.eno=100\n",
    "        self.ename='Jack'\n",
    "        self.esal=100000\n",
    "e=Employee()\n",
    "print(e.__dict__)"
   ]
  },
  {
   "cell_type": "markdown",
   "metadata": {},
   "source": [
    "#### ii) Isnide Instance Method by using self variable:\n",
    "We can also declare instance variables inside instance method by using self variable. If any instance variable declared inside instance method, that instance variable will be added once we call that method.\n",
    "\n",
    "Example:"
   ]
  },
  {
   "cell_type": "code",
   "execution_count": 21,
   "metadata": {},
   "outputs": [
    {
     "name": "stdout",
     "output_type": "stream",
     "text": [
      "{'a': 12, 'b': 21, 'c': 30}\n"
     ]
    }
   ],
   "source": [
    "class Test:\n",
    "    def __init__(self):\n",
    "        self.a = 12\n",
    "        self.b = 21\n",
    "        \n",
    "    def m1(self):\n",
    "        self.c = 30\n",
    "t=Test()\n",
    "t.m1()\n",
    "print(t.__dict__)"
   ]
  },
  {
   "cell_type": "markdown",
   "metadata": {},
   "source": [
    "#### iii) Outside of the class by using object refrence variable:\n",
    "We can also add instance variables outside of a class to a particular object."
   ]
  },
  {
   "cell_type": "code",
   "execution_count": 25,
   "metadata": {},
   "outputs": [
    {
     "name": "stdout",
     "output_type": "stream",
     "text": [
      "{'a': 10, 'b': 20, 'c': 30, 'd': 40, 'e': 50}\n",
      "Access instance variable outside the class 10,20\n"
     ]
    }
   ],
   "source": [
    "class Test:\n",
    "    def __init__(self):\n",
    "        self.a = 10\n",
    "        self.b = 20\n",
    "        self.c = 30\n",
    "        \n",
    "    def m1(self):\n",
    "        self.d = 40\n",
    "        \n",
    "t = Test()\n",
    "t.m1()\n",
    "t.e = 50\n",
    "print(t.__dict__)\n",
    "\n",
    "print(f'Access instance variable outside the class {t.a},{t.b}')"
   ]
  },
  {
   "cell_type": "markdown",
   "metadata": {},
   "source": [
    "#### Delete instance variable from the ob=jet\n",
    "1. Within a class we can delete instance variable as follows \n",
    " \n",
    "       del self.variableName \n",
    " \n",
    "2. From outside of class we can delete instance variables as follows        \n",
    "      \n",
    "       del objectreference.variableName\n",
    "       \n",
    "Example:"
   ]
  },
  {
   "cell_type": "code",
   "execution_count": 28,
   "metadata": {},
   "outputs": [
    {
     "name": "stdout",
     "output_type": "stream",
     "text": [
      "{'b': 20, 'c': 30}\n",
      "{'b': 20}\n"
     ]
    }
   ],
   "source": [
    "class Test:\n",
    "    def __init__(self):\n",
    "        self.a = 10\n",
    "        self.b = 20\n",
    "        self.c = 30\n",
    "        \n",
    "    def m1(self):\n",
    "        del self.a\n",
    "        \n",
    "t = Test()\n",
    "t.m1()\n",
    "print(t.__dict__)\n",
    "del t.c\n",
    "print(t.__dict__)"
   ]
  },
  {
   "cell_type": "markdown",
   "metadata": {},
   "source": [
    "##### Note: \n",
    "The instance variables which are deleted from one object,will not be deleted from other objects"
   ]
  },
  {
   "cell_type": "code",
   "execution_count": 30,
   "metadata": {},
   "outputs": [
    {
     "name": "stdout",
     "output_type": "stream",
     "text": [
      "{'a': 10, 'b': 20, 'c': 30}\n",
      "{'b': 20, 'c': 30}\n"
     ]
    }
   ],
   "source": [
    "class Test:\n",
    "    def __init__(self):\n",
    "        self.a = 10\n",
    "        self.b = 20\n",
    "        self.c = 30\n",
    "        \n",
    "t = Test()\n",
    "t1 = Test()\n",
    "\n",
    "del t1.a\n",
    "print(t.__dict__)\n",
    "print(t1.__dict__)"
   ]
  },
  {
   "cell_type": "markdown",
   "metadata": {},
   "source": [
    "### 2.Static Variable:\n",
    "If the value of a variable is not varied from object to object, such type of variables we have to declare with in the class directly but outside of methods. Such type of variables are called Static variables. \n",
    " \n",
    "For total class only one copy of static variable will be created and shared by all objects of that class. \n",
    " \n",
    "We can access static variables either by class name or by object reference. But recommended to use class name."
   ]
  },
  {
   "cell_type": "markdown",
   "metadata": {},
   "source": [
    "Various places to declare static variables:\n",
    "* In general we can declare within the class directly but from out side of any method \n",
    "* Inside constructor by using class name \n",
    "* Inside instance method by using class name \n",
    "* Inside classmethod by using either class name or cls variable \n",
    "* Inside static method by using class name "
   ]
  },
  {
   "cell_type": "code",
   "execution_count": 3,
   "metadata": {},
   "outputs": [],
   "source": [
    "class Test:\n",
    "    a = 10\n",
    "    def __init__(self):\n",
    "        Test.b = 20\n",
    "    def m1(self):\n",
    "        Test.c = 30\n",
    "    @classmethod\n",
    "    def m2(cls):\n",
    "        cls.d1 = 40\n",
    "        Test.d2 = 50\n",
    "    @staticmethod\n",
    "    def m3():\n",
    "        Test.e = 60"
   ]
  },
  {
   "cell_type": "markdown",
   "metadata": {},
   "source": [
    "Access Static Variables:\n",
    "* inside constructor: by using either self or classname \n",
    "* inside instance method:  by using either self or classname \n",
    "* inside class method: by using either cls variable or classname \n",
    "* inside static method: by using classname \n",
    "* From outside of class: by using either object reference or classnmae "
   ]
  },
  {
   "cell_type": "markdown",
   "metadata": {},
   "source": [
    "### 3.Local Variables:\n",
    "Sometimes to meet temporary requirements of programmer,we can declare variables inside a method directly,such type of variables are called local variable or temporary variables. \n",
    " \n",
    " Local variables will be created at the time of method execution and destroyed once method completes. \n",
    " \n",
    " Local variables of a method cannot be accessed from outside of method. "
   ]
  },
  {
   "cell_type": "code",
   "execution_count": 6,
   "metadata": {},
   "outputs": [
    {
     "name": "stdout",
     "output_type": "stream",
     "text": [
      "1000\n",
      "200\n"
     ]
    }
   ],
   "source": [
    "class Test:\n",
    "    def m1(self):\n",
    "        a= 1000\n",
    "        print(a)\n",
    "    def m2(self):\n",
    "        b= 200\n",
    "        print(b)\n",
    "t = Test()\n",
    "t.m1()\n",
    "t.m2()"
   ]
  },
  {
   "cell_type": "markdown",
   "metadata": {},
   "source": [
    "### Passing Member Of one Class to another Class\n",
    "We can access members of one class inside another class"
   ]
  },
  {
   "cell_type": "code",
   "execution_count": 11,
   "metadata": {},
   "outputs": [
    {
     "name": "stdout",
     "output_type": "stream",
     "text": [
      "Employee Number is 101\n",
      "Employee Name is Jack\n",
      "Salary of Employee is 12000\n"
     ]
    }
   ],
   "source": [
    "class Employee:\n",
    "    def __init__(self, eno, ename, esal):\n",
    "        self.eno = eno\n",
    "        self.ename = ename\n",
    "        self.esal = esal\n",
    "        \n",
    "    def display(self):\n",
    "        print(f'Employee Number is {self.eno}')\n",
    "        print(f'Employee Name is {self.ename}')\n",
    "        print(f'Salary of Employee is {self.esal}')\n",
    "    \n",
    "    \n",
    "class Test:\n",
    "    def modify(emp):\n",
    "        emp.esal = emp.esal + 10000\n",
    "        emp.display()\n",
    "        \n",
    "e = Employee(101, 'Jack', 2000)\n",
    "Test.modify(e)"
   ]
  },
  {
   "cell_type": "markdown",
   "metadata": {},
   "source": [
    "### Inner Classes:\n",
    "Sometimes we can declare a class inside another class,such type of classes  are called inner classes. \n",
    " \n",
    "Without existing one type of object if there is no chance of existing another type of object,then we should go for inner classes. \n",
    " \n",
    "Example: Without existing Car object there is no chance of existing Engine object. Hence Engine class should be part of Car class. \n",
    "\n",
    "Example:"
   ]
  },
  {
   "cell_type": "code",
   "execution_count": 13,
   "metadata": {},
   "outputs": [
    {
     "name": "stdout",
     "output_type": "stream",
     "text": [
      "Outer class object creation\n",
      "Inner class Object creation\n",
      "Inner class Method\n"
     ]
    }
   ],
   "source": [
    "class Outer:\n",
    "    def __init__(self):\n",
    "        print('Outer class object creation')\n",
    "    class Inner:\n",
    "        def __init__(self):\n",
    "            print('Inner class Object creation')\n",
    "        def m1(self):\n",
    "            print('Inner class Method')\n",
    "            \n",
    "o = Outer()\n",
    "i = o.Inner()\n",
    "i.m1()"
   ]
  },
  {
   "cell_type": "raw",
   "metadata": {},
   "source": [
    "The following are various possible syntaxes for calling inne class method\n",
    "\n",
    "1. o = Outer()\n",
    "   i = o.Inner()\n",
    "   i.m1()\n",
    "\n",
    "2. i = Outer().inner()\n",
    "   i.m1()\n",
    "    \n",
    "3. Outer().Inner().m1()\n"
   ]
  },
  {
   "cell_type": "markdown",
   "metadata": {},
   "source": [
    "#### Example:"
   ]
  },
  {
   "cell_type": "code",
   "execution_count": 16,
   "metadata": {},
   "outputs": [
    {
     "name": "stdout",
     "output_type": "stream",
     "text": [
      "Name is Jack\n",
      "Dob is 10/11/1998\n"
     ]
    }
   ],
   "source": [
    "class Person:\n",
    "    def __init__(self):\n",
    "        self.name = 'Jack'\n",
    "        self.db = self.Dob()\n",
    "    def display(self):\n",
    "        print(f'Name is {self.name}')\n",
    "    class Dob:\n",
    "        def __init__(self):\n",
    "            self.dd = 10\n",
    "            self.mm =11\n",
    "            self.yy=1998\n",
    "        def display(self):\n",
    "            print(f'Dob is {self.dd}/{self.mm}/{self.yy}')\n",
    "p = Person()\n",
    "p.display()\n",
    "x = p.db\n",
    "x.display()"
   ]
  },
  {
   "cell_type": "markdown",
   "metadata": {},
   "source": [
    "#### Example:"
   ]
  },
  {
   "cell_type": "code",
   "execution_count": 20,
   "metadata": {},
   "outputs": [
    {
     "name": "stdout",
     "output_type": "stream",
     "text": [
      "Hello! Sunny\n",
      "Talking\n",
      "Thinking\n"
     ]
    }
   ],
   "source": [
    "class Human:\n",
    "    def __init__(self):\n",
    "        self.name = 'Sunny'\n",
    "        self.Head = self.Head()\n",
    "        self.brain = self.Brain()\n",
    "    def display(self):\n",
    "        print(f'Hello! {self.name}')\n",
    "        \n",
    "    class Head:\n",
    "        def talk(self):\n",
    "            print('Talking')\n",
    "    class Brain:\n",
    "        def think(self):\n",
    "            print('Thinking')\n",
    "            \n",
    "h = Human()\n",
    "h.display()\n",
    "h.Head.talk()\n",
    "h.brain.think()"
   ]
  },
  {
   "cell_type": "markdown",
   "metadata": {},
   "source": [
    "### Garbage Collection\n",
    "In old languages like C++, programmer is responsible for both creation and destruction of objects.Usually programmer taking very much care while creating object, but neglecting destruction of useless objects. Because of his neglectance, total memory can be filled with useless objects which creates memory problems and total application will be down with Out of memory error. \n",
    " \n",
    "But in Python, We have some assistant which is always running in the background to destroy useless objects.Because this assistant the chance of failing Python program with memory problems is very less. This assistant is nothing but Garbage Collector. \n",
    " \n",
    "Hence the main objective of Garbage Collector is to destroy useless objects. \n",
    " \n",
    "If an object does not have any reference variable then that object eligible for Garbage Collection. \n",
    "\n",
    "#### How to enable and disable Garbage Collector in our program\n",
    "By default Gargbage collector is enabled, but we can disable based on our requirement. In this context we can use the following functions of gc module. \n",
    "\n",
    "1.gc.isenabled()\n",
    "\n",
    "Returns True if GC is enabled\n",
    "\n",
    "2.gc.disable()\n",
    "\n",
    "To disable GC explicitly\n",
    "\n",
    "3.gc.enable()\n",
    "\n",
    "To enable GC explicitly\n",
    "\n",
    "Example:"
   ]
  },
  {
   "cell_type": "code",
   "execution_count": 22,
   "metadata": {},
   "outputs": [
    {
     "name": "stdout",
     "output_type": "stream",
     "text": [
      "True\n",
      "False\n",
      "True\n"
     ]
    }
   ],
   "source": [
    "import gc\n",
    "print(gc.isenabled())\n",
    "gc.disable()\n",
    "print(gc.isenabled())\n",
    "gc.enable()\n",
    "print(gc.isenabled())"
   ]
  },
  {
   "cell_type": "markdown",
   "metadata": {},
   "source": [
    "### Destructors:\n",
    "Destructor is a special method and the name should be __del__ Just before destroying an object Garbage Collector always calls destructor to perform clean up activities (Resource deallocation activities like close database connection etc). Once destructor execution completed then Garbage Collector automatically destroys that object. \n",
    " \n",
    "##### Note: \n",
    "\n",
    "The job of destructor is not to destroy object and it is just to perform clean up activities. \n",
    " \n",
    "Example:"
   ]
  },
  {
   "cell_type": "code",
   "execution_count": 24,
   "metadata": {},
   "outputs": [
    {
     "name": "stdout",
     "output_type": "stream",
     "text": [
      "Object Initialization...\n",
      "Fulfilling Last wish and performing clean up activities...\n",
      "End of Application\n"
     ]
    }
   ],
   "source": [
    "import time\n",
    "class Test:\n",
    "    def __init__(self):\n",
    "        print('Object Initialization...')\n",
    "    def __del__(self):\n",
    "        print('Fulfilling Last wish and performing clean up activities...')\n",
    "        \n",
    "t1 = Test()\n",
    "t1 = None\n",
    "time.sleep(5)\n",
    "print('End of Application')"
   ]
  },
  {
   "cell_type": "markdown",
   "metadata": {},
   "source": [
    "##### Note:\n",
    "If the object does not contain any reference variable  then only it is eligible fo GC. ie if the reference count is zero then only object eligible for GC \n",
    " \n",
    "Example:"
   ]
  },
  {
   "cell_type": "code",
   "execution_count": 26,
   "metadata": {},
   "outputs": [
    {
     "name": "stdout",
     "output_type": "stream",
     "text": [
      "Constructor Execution\n",
      "Object not yet destroyed after deleting t1\n",
      "Object not yet destroyed even after deleting t2\n",
      "I am trying to delete last refrence variable\n",
      "Destructor Execution\n"
     ]
    }
   ],
   "source": [
    "import time\n",
    "class Test:\n",
    "    def __init__(self):\n",
    "        print('Constructor Execution')\n",
    "    def __del__(self):\n",
    "        print('Destructor Execution')\n",
    "\n",
    "t1 = Test()\n",
    "t2 = t1\n",
    "t3 = t2\n",
    "del t1\n",
    "time.sleep(5)\n",
    "print('Object not yet destroyed after deleting t1')\n",
    "del t2\n",
    "time.sleep(5)\n",
    "print('Object not yet destroyed even after deleting t2')\n",
    "print('I am trying to delete last refrence variable')\n",
    "del t3"
   ]
  },
  {
   "cell_type": "markdown",
   "metadata": {},
   "source": [
    "Example:"
   ]
  },
  {
   "cell_type": "code",
   "execution_count": 28,
   "metadata": {},
   "outputs": [
    {
     "name": "stdout",
     "output_type": "stream",
     "text": [
      "COnstructor Execution\n",
      "COnstructor Execution\n",
      "COnstructor Execution\n",
      "Destructor Execution\n",
      "Destructor Execution\n",
      "Destructor Execution\n",
      "End of application\n"
     ]
    }
   ],
   "source": [
    "import time \n",
    "class Test:\n",
    "    def __init__(self):\n",
    "        print('COnstructor Execution')\n",
    "    def __del__(self):\n",
    "        print('Destructor Execution')\n",
    "        \n",
    "lis = [Test(), Test(), Test()]\n",
    "del lis\n",
    "time.sleep(5)\n",
    "print('End of application')"
   ]
  },
  {
   "cell_type": "markdown",
   "metadata": {},
   "source": [
    "### How to find the number of references of an object: \n",
    "sys module contains getrefcount() function for this purpose."
   ]
  },
  {
   "cell_type": "code",
   "execution_count": 30,
   "metadata": {},
   "outputs": [
    {
     "name": "stdout",
     "output_type": "stream",
     "text": [
      "5\n"
     ]
    }
   ],
   "source": [
    "import sys\n",
    "class Test:\n",
    "    pass\n",
    "t1 = Test()\n",
    "t2 = t1\n",
    "t3 = t1\n",
    "t4 = t1\n",
    "print(sys.getrefcount(t1))\n"
   ]
  },
  {
   "cell_type": "markdown",
   "metadata": {},
   "source": [
    "##### Note:\n",
    "For every object, Python internally maintains one default refrence variable self."
   ]
  }
 ],
 "metadata": {
  "hide_input": false,
  "kernelspec": {
   "display_name": "Python 3",
   "language": "python",
   "name": "python3"
  },
  "language_info": {
   "codemirror_mode": {
    "name": "ipython",
    "version": 3
   },
   "file_extension": ".py",
   "mimetype": "text/x-python",
   "name": "python",
   "nbconvert_exporter": "python",
   "pygments_lexer": "ipython3",
   "version": "3.7.7"
  }
 },
 "nbformat": 4,
 "nbformat_minor": 4
}
