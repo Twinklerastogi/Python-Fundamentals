{
 "cells": [
  {
   "cell_type": "markdown",
   "metadata": {},
   "source": [
    "## Dictionary"
   ]
  },
  {
   "cell_type": "markdown",
   "metadata": {},
   "source": [
    "If we want to represent a group of objects as key-value pairs then use dictionary\n",
    "\n",
    "* Duplcates Keys are not allowed but values can be duplicated\n",
    "* Heterogenous Objects are allowed for both key and values\n",
    "* Insertion order is not preserved\n",
    "* Dictionaries are mutable\n",
    "* Dictionaries are Dynamic\n",
    "* Indexing and slicing concepts are not applicable"
   ]
  },
  {
   "cell_type": "markdown",
   "metadata": {},
   "source": [
    "##### Create Dictionary"
   ]
  },
  {
   "cell_type": "code",
   "execution_count": 4,
   "metadata": {},
   "outputs": [
    {
     "name": "stdout",
     "output_type": "stream",
     "text": [
      "{'a': 5, 'b': 6, 'c': 7}\n"
     ]
    }
   ],
   "source": [
    "d={}\n",
    "d['a'] = 5\n",
    "d['b'] = 6\n",
    "d['c'] = 7\n",
    "print(d)"
   ]
  },
  {
   "cell_type": "code",
   "execution_count": 6,
   "metadata": {},
   "outputs": [
    {
     "name": "stdout",
     "output_type": "stream",
     "text": [
      "{'one': 1, 'two': 2}\n"
     ]
    }
   ],
   "source": [
    "dic= {'one':1, 'two':2}\n",
    "print(dic)"
   ]
  },
  {
   "cell_type": "markdown",
   "metadata": {},
   "source": [
    "##### Access data from dictionary"
   ]
  },
  {
   "cell_type": "code",
   "execution_count": 10,
   "metadata": {},
   "outputs": [],
   "source": [
    "dic = {1:'one', 2:'Two', 3:'Three', 4:'Four', 5:'Five'}"
   ]
  },
  {
   "cell_type": "code",
   "execution_count": 11,
   "metadata": {},
   "outputs": [
    {
     "name": "stdout",
     "output_type": "stream",
     "text": [
      "one Two\n"
     ]
    }
   ],
   "source": [
    "print(dic[1], dic[2])"
   ]
  },
  {
   "cell_type": "code",
   "execution_count": 12,
   "metadata": {},
   "outputs": [
    {
     "ename": "KeyError",
     "evalue": "6",
     "output_type": "error",
     "traceback": [
      "\u001b[1;31m---------------------------------------------------------------------------\u001b[0m",
      "\u001b[1;31mKeyError\u001b[0m                                  Traceback (most recent call last)",
      "\u001b[1;32m<ipython-input-12-3ec18af7316d>\u001b[0m in \u001b[0;36m<module>\u001b[1;34m\u001b[0m\n\u001b[1;32m----> 1\u001b[1;33m \u001b[0mdic\u001b[0m\u001b[1;33m[\u001b[0m\u001b[1;36m6\u001b[0m\u001b[1;33m]\u001b[0m \u001b[1;31m#KeyError\u001b[0m\u001b[1;33m\u001b[0m\u001b[1;33m\u001b[0m\u001b[0m\n\u001b[0m",
      "\u001b[1;31mKeyError\u001b[0m: 6"
     ]
    }
   ],
   "source": [
    "dic[6] #KeyError"
   ]
  },
  {
   "cell_type": "markdown",
   "metadata": {},
   "source": [
    "We can prevent this by checking whether key is already available or not by using in operator."
   ]
  },
  {
   "cell_type": "code",
   "execution_count": 15,
   "metadata": {},
   "outputs": [
    {
     "name": "stdout",
     "output_type": "stream",
     "text": [
      "one\n",
      "Two\n",
      "Three\n",
      "Four\n",
      "Five\n"
     ]
    }
   ],
   "source": [
    "for i in range(7):\n",
    "    if i in dic:\n",
    "        print(dic[i])"
   ]
  },
  {
   "cell_type": "markdown",
   "metadata": {},
   "source": [
    "##### Update Dictionary\n",
    "\n",
    "d[key]=value\n",
    "\n",
    "if the key is not available then a new entry will be added to the dictionary\n",
    "\n",
    "if the key is already present then the old value will get replace by new value"
   ]
  },
  {
   "cell_type": "code",
   "execution_count": 17,
   "metadata": {},
   "outputs": [
    {
     "name": "stdout",
     "output_type": "stream",
     "text": [
      "{1: 'one', 2: 'Two', 3: 'Three', 4: 'Four', 5: 'Five'}\n"
     ]
    }
   ],
   "source": [
    "print(dic)"
   ]
  },
  {
   "cell_type": "code",
   "execution_count": 19,
   "metadata": {},
   "outputs": [
    {
     "name": "stdout",
     "output_type": "stream",
     "text": [
      "{1: 'one', 2: 'II', 3: 'Three', 4: 'IV', 5: 'Five', 6: 'VI'}\n"
     ]
    }
   ],
   "source": [
    "dic[2] = 'II'\n",
    "dic[4] = 'IV'\n",
    "dic[6] = 'VI'\n",
    "print(dic)"
   ]
  },
  {
   "cell_type": "markdown",
   "metadata": {},
   "source": [
    "##### Delete elements from dictionary"
   ]
  },
  {
   "cell_type": "code",
   "execution_count": 23,
   "metadata": {},
   "outputs": [
    {
     "name": "stdout",
     "output_type": "stream",
     "text": [
      "Dictionary before deletion\n",
      "\n",
      " {1: 'one', 2: 'II', 3: 'Three', 4: 'IV', 5: 'Five', 6: 'VI'} \n",
      "\n",
      "\n",
      "\n",
      "Dictionary after deletion\n",
      "\n",
      " {2: 'II', 3: 'Three', 4: 'IV', 5: 'Five', 6: 'VI'} \n",
      "\n"
     ]
    }
   ],
   "source": [
    "print('Dictionary before deletion\\n\\n',dic,'\\n')\n",
    "del dic[1]\n",
    "print('\\n\\nDictionary after deletion\\n\\n',dic,'\\n')"
   ]
  },
  {
   "cell_type": "markdown",
   "metadata": {},
   "source": [
    "##### Functions of Dictionary"
   ]
  },
  {
   "cell_type": "markdown",
   "metadata": {},
   "source": [
    "1. dict()\n",
    "\n",
    "To create dictionary\n",
    "\n",
    "Example:"
   ]
  },
  {
   "cell_type": "code",
   "execution_count": 27,
   "metadata": {},
   "outputs": [
    {
     "name": "stdout",
     "output_type": "stream",
     "text": [
      "{1: 'one', 2: 'Two'}\n"
     ]
    }
   ],
   "source": [
    "d= dict({1:'one', 2:'Two'})\n",
    "print(d)"
   ]
  },
  {
   "cell_type": "markdown",
   "metadata": {},
   "source": [
    "2.len()\n",
    "\n",
    "Returns the number of items in dictionary.\n",
    "\n",
    "Example:"
   ]
  },
  {
   "cell_type": "code",
   "execution_count": 29,
   "metadata": {},
   "outputs": [
    {
     "name": "stdout",
     "output_type": "stream",
     "text": [
      "2\n"
     ]
    }
   ],
   "source": [
    "print(len(d))"
   ]
  },
  {
   "cell_type": "markdown",
   "metadata": {},
   "source": [
    "3. clear()\n",
    "\n",
    "To remove all items from dictionary\n",
    "\n",
    "Example:"
   ]
  },
  {
   "cell_type": "code",
   "execution_count": 31,
   "metadata": {},
   "outputs": [
    {
     "name": "stdout",
     "output_type": "stream",
     "text": [
      "{}\n"
     ]
    }
   ],
   "source": [
    "d.clear()\n",
    "print(d)"
   ]
  },
  {
   "cell_type": "markdown",
   "metadata": {},
   "source": [
    "4.get()\n",
    "\n",
    "To get the value associated with the key\n",
    "\n",
    "d.get(key) if key is available then value will print else returns none\n",
    "\n",
    "d.get(key,defaultvalue) if key is available then value will print else returns defaultvalue.\n",
    "\n",
    "Example:"
   ]
  },
  {
   "cell_type": "code",
   "execution_count": 35,
   "metadata": {},
   "outputs": [
    {
     "name": "stdout",
     "output_type": "stream",
     "text": [
      "one\n",
      "Two\n",
      "None\n",
      "Not present\n",
      "one\n"
     ]
    }
   ],
   "source": [
    "d = {1:'one', 2:'Two', 3:'Three'}\n",
    "print(d.get(1))\n",
    "print(d.get(2))\n",
    "print(d.get(4))\n",
    "print(d.get(4, 'Not present'))\n",
    "print(d.get(1, 'Not present'))"
   ]
  },
  {
   "cell_type": "markdown",
   "metadata": {},
   "source": [
    "5.pop()\n",
    "\n",
    "d.pop(key)\n",
    "\n",
    "Return value associated with it and if key not present then KeyError\n",
    "\n",
    "Example:"
   ]
  },
  {
   "cell_type": "code",
   "execution_count": 39,
   "metadata": {},
   "outputs": [
    {
     "name": "stdout",
     "output_type": "stream",
     "text": [
      "{1: 'one', 2: 'Two', 3: 'Three'}\n",
      "{2: 'Two', 3: 'Three'}\n"
     ]
    }
   ],
   "source": [
    "print(d)\n",
    "d.pop(1)\n",
    "print(d)"
   ]
  },
  {
   "cell_type": "markdown",
   "metadata": {},
   "source": [
    "6.popitem()\n",
    "\n",
    "It removes an artibitary item (key-value) from the dictionary and returns it.\n",
    "\n",
    "Example:"
   ]
  },
  {
   "cell_type": "code",
   "execution_count": 41,
   "metadata": {},
   "outputs": [
    {
     "name": "stdout",
     "output_type": "stream",
     "text": [
      "{2: 'Two', 3: 'Three'}\n",
      "(3, 'Three')\n",
      "{2: 'Two'}\n"
     ]
    }
   ],
   "source": [
    "print(d)\n",
    "print(d.popitem())\n",
    "print(d)"
   ]
  },
  {
   "cell_type": "markdown",
   "metadata": {},
   "source": [
    "7.keys()\n",
    "\n",
    "It returns all the keys associates with dictionary."
   ]
  },
  {
   "cell_type": "code",
   "execution_count": 43,
   "metadata": {},
   "outputs": [],
   "source": [
    "d={1:'one', 2:'Two', 3:'Three', 4:'Four'}"
   ]
  },
  {
   "cell_type": "code",
   "execution_count": 44,
   "metadata": {},
   "outputs": [
    {
     "data": {
      "text/plain": [
       "dict_keys([1, 2, 3, 4])"
      ]
     },
     "execution_count": 44,
     "metadata": {},
     "output_type": "execute_result"
    }
   ],
   "source": [
    "d.keys()"
   ]
  },
  {
   "cell_type": "markdown",
   "metadata": {},
   "source": [
    "8.values()\n",
    "\n",
    "Return all the values associated with dictionary"
   ]
  },
  {
   "cell_type": "code",
   "execution_count": 46,
   "metadata": {},
   "outputs": [
    {
     "data": {
      "text/plain": [
       "dict_values(['one', 'Two', 'Three', 'Four'])"
      ]
     },
     "execution_count": 46,
     "metadata": {},
     "output_type": "execute_result"
    }
   ],
   "source": [
    "d.values()"
   ]
  },
  {
   "cell_type": "markdown",
   "metadata": {},
   "source": [
    "9.items()\n",
    "\n",
    "it returns list/tuple representing key-value pair."
   ]
  },
  {
   "cell_type": "code",
   "execution_count": 49,
   "metadata": {},
   "outputs": [
    {
     "data": {
      "text/plain": [
       "dict_items([(1, 'one'), (2, 'Two'), (3, 'Three'), (4, 'Four')])"
      ]
     },
     "execution_count": 49,
     "metadata": {},
     "output_type": "execute_result"
    }
   ],
   "source": [
    "d.items()"
   ]
  },
  {
   "cell_type": "markdown",
   "metadata": {},
   "source": [
    "10.copy()\n",
    "\n",
    "It returns the cloned copy of dictionary."
   ]
  },
  {
   "cell_type": "code",
   "execution_count": 53,
   "metadata": {},
   "outputs": [
    {
     "name": "stdout",
     "output_type": "stream",
     "text": [
      "{1: 'one', 2: 'Two', 3: 'Three', 4: 'Four'}\n",
      "{1: 'one', 2: 'Two', 3: 'Three', 4: 'Four'}\n"
     ]
    }
   ],
   "source": [
    "d1 = d.copy()\n",
    "print(d1,d, sep='\\n')"
   ]
  },
  {
   "cell_type": "markdown",
   "metadata": {},
   "source": [
    "11.setdefault()\n",
    "\n",
    "\n",
    "d.setdefault(k,v)\n",
    "\n",
    "if k not in d then d[k]=v return v\n",
    "\n",
    "else return v\n",
    "\n",
    "Example:"
   ]
  },
  {
   "cell_type": "code",
   "execution_count": 56,
   "metadata": {},
   "outputs": [
    {
     "name": "stdout",
     "output_type": "stream",
     "text": [
      "{1: 's', 2: 'w', 3: 'q'}\n",
      "h\n",
      "{1: 's', 2: 'w', 3: 'q', 4: 'h'}\n",
      "s\n",
      "{1: 's', 2: 'w', 3: 'q', 4: 'h'}\n"
     ]
    }
   ],
   "source": [
    "d={1:\"s\",2:\"w\",3:\"q\"}\n",
    "print(d)\n",
    "print(d.setdefault(4,\"h\"))\n",
    "print(d)\n",
    "print(d.setdefault(1,\"g\"))\n",
    "print(d)"
   ]
  },
  {
   "cell_type": "markdown",
   "metadata": {},
   "source": [
    "12.update()\n",
    "\n",
    "d,update(x)\n",
    "\n",
    "all items present in the dictionary x will be added to dictionary d\n",
    "\n",
    "Example:"
   ]
  },
  {
   "cell_type": "code",
   "execution_count": 58,
   "metadata": {},
   "outputs": [
    {
     "name": "stdout",
     "output_type": "stream",
     "text": [
      "{1: 's', 2: 'w', 3: 'q', 4: 'h'}\n",
      "{1: 'one', 2: 'Two', 3: 'Three', 4: 'Four'}\n",
      "{1: 'one', 2: 'Two', 3: 'Three', 4: 'Four'}\n"
     ]
    }
   ],
   "source": [
    "print(d)\n",
    "print(d1)\n",
    "d.update(d1)\n",
    "print(d)"
   ]
  },
  {
   "cell_type": "markdown",
   "metadata": {},
   "source": [
    "##### Dictionary Comprehension"
   ]
  },
  {
   "cell_type": "code",
   "execution_count": 60,
   "metadata": {},
   "outputs": [
    {
     "name": "stdout",
     "output_type": "stream",
     "text": [
      "{0: 0, 1: 1, 2: 4, 3: 9, 4: 16}\n"
     ]
    }
   ],
   "source": [
    "sq = {x:x**2 for x in range(5)}\n",
    "print(sq)"
   ]
  }
 ],
 "metadata": {
  "hide_input": false,
  "kernelspec": {
   "display_name": "Python 3",
   "language": "python",
   "name": "python3"
  },
  "language_info": {
   "codemirror_mode": {
    "name": "ipython",
    "version": 3
   },
   "file_extension": ".py",
   "mimetype": "text/x-python",
   "name": "python",
   "nbconvert_exporter": "python",
   "pygments_lexer": "ipython3",
   "version": "3.7.7"
  }
 },
 "nbformat": 4,
 "nbformat_minor": 4
}
