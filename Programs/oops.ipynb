{
 "cells": [
  {
   "cell_type": "markdown",
   "metadata": {},
   "source": [
    "### The program takes the length and breadth from the user and finds the area of the rectangle using classes."
   ]
  },
  {
   "cell_type": "code",
   "execution_count": 4,
   "metadata": {},
   "outputs": [
    {
     "name": "stdout",
     "output_type": "stream",
     "text": [
      "4\n",
      "5\n",
      "Area of Rectangle is 20\n",
      "\n"
     ]
    }
   ],
   "source": [
    "class Area:\n",
    "    def __init__(self, length, breadth):\n",
    "        self.length = length\n",
    "        self.breadth = breadth\n",
    "    def area(self):\n",
    "        return self.length * self.breadth\n",
    "\n",
    "l = int(input())\n",
    "b = int(input())\n",
    "obj = Area(l, b)\n",
    "print(f'Area of Rectangle is {obj.area()}\\n')"
   ]
  },
  {
   "cell_type": "markdown",
   "metadata": {},
   "source": [
    "### The program appends, deletes and displays elements of a list using classes."
   ]
  },
  {
   "cell_type": "code",
   "execution_count": 4,
   "metadata": {},
   "outputs": [
    {
     "name": "stdout",
     "output_type": "stream",
     "text": [
      "0. Exit\n",
      "1. Add\n",
      "2. Delete\n",
      "3. Display\n",
      "Enter choice: 1\n",
      "Enter number to append: 23\n",
      "0. Exit\n",
      "1. Add\n",
      "2. Delete\n",
      "3. Display\n",
      "Enter choice: 3\n",
      "List:  [23]\n",
      "0. Exit\n",
      "1. Add\n",
      "2. Delete\n",
      "3. Display\n",
      "Enter choice: 2\n",
      "Enter number to remove: 23\n",
      "0. Exit\n",
      "1. Add\n",
      "2. Delete\n",
      "3. Display\n",
      "Enter choice: 3\n",
      "List:  []\n",
      "0. Exit\n",
      "1. Add\n",
      "2. Delete\n",
      "3. Display\n",
      "Enter choice: 0\n",
      "Exiting!\n",
      "\n"
     ]
    }
   ],
   "source": [
    "class List:\n",
    "    def __init__(self):\n",
    "        self.n = []\n",
    "    def add(self,a):\n",
    "        self.n.append(a)\n",
    "    def remove(self, b):\n",
    "        self.n.remove(b)\n",
    "    def display(self):\n",
    "        return self.n\n",
    "obj = List()\n",
    "case = {\n",
    "    0: 'exit',\n",
    "    1: obj.add,\n",
    "    2: obj.remove,\n",
    "    3: obj.display\n",
    "}\n",
    "\n",
    "\n",
    "choice = 9\n",
    "while choice!=0:\n",
    "    print(\"0. Exit\")\n",
    "    print(\"1. Add\")\n",
    "    print(\"2. Delete\")\n",
    "    print(\"3. Display\")\n",
    "    choice=int(input(\"Enter choice: \"))\n",
    "    if choice==1:\n",
    "        n=int(input(\"Enter number to append: \"))\n",
    "        case[choice](n)\n",
    "        \n",
    " \n",
    "    elif choice==2:\n",
    "        n=int(input(\"Enter number to remove: \"))\n",
    "        case[choice](n)\n",
    "    \n",
    " \n",
    "    elif choice==3:\n",
    "        print(\"List: \",case[choice]())\n",
    "    elif choice==0:\n",
    "        print(\"Exiting!\")\n",
    "    else:\n",
    "        print(\"Invalid choice!!\")\n",
    "print()    "
   ]
  },
  {
   "cell_type": "code",
   "execution_count": null,
   "metadata": {},
   "outputs": [],
   "source": []
  },
  {
   "cell_type": "code",
   "execution_count": null,
   "metadata": {},
   "outputs": [],
   "source": []
  }
 ],
 "metadata": {
  "hide_input": false,
  "kernelspec": {
   "display_name": "Python 3",
   "language": "python",
   "name": "python3"
  },
  "language_info": {
   "codemirror_mode": {
    "name": "ipython",
    "version": 3
   },
   "file_extension": ".py",
   "mimetype": "text/x-python",
   "name": "python",
   "nbconvert_exporter": "python",
   "pygments_lexer": "ipython3",
   "version": "3.7.7"
  }
 },
 "nbformat": 4,
 "nbformat_minor": 4
}
