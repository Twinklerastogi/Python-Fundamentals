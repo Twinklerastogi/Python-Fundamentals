{
 "cells": [
  {
   "cell_type": "markdown",
   "metadata": {},
   "source": [
    "## 1.1 Unpacking a sequence into seperate variables"
   ]
  },
  {
   "cell_type": "markdown",
   "metadata": {},
   "source": [
    "Unpacking actually works with any object that happens to be iterable, not just tuples or lists. This includes strings, files, iterators, and generators"
   ]
  },
  {
   "cell_type": "markdown",
   "metadata": {},
   "source": [
    "### Problem\n",
    "You have an N-element tuple or sequence that you would like to unpack into a collection of N variables. "
   ]
  },
  {
   "cell_type": "code",
   "execution_count": 6,
   "metadata": {},
   "outputs": [
    {
     "name": "stdout",
     "output_type": "stream",
     "text": [
      "Name: AcE\n",
      "Shares: 50\n",
      "Price: 91.1\n",
      "Date: (2020, 10, 22)\n"
     ]
    }
   ],
   "source": [
    "data = ['AcE', 50, 91.1, (2020,10,22)]\n",
    "name, shares,price, date = data\n",
    "print(f'Name: {name}\\nShares: {shares}\\nPrice: {price}\\nDate: {date}')"
   ]
  },
  {
   "cell_type": "markdown",
   "metadata": {},
   "source": [
    "If there is a mismatch in the number of elements, you’ll get an error.\n",
    "\n",
    "When unpacking, you may sometimes want to discard certain values. Python has no special syntax for this, but you can often just pick a throwaway variable name for it. \n",
    "\n",
    "For example:"
   ]
  },
  {
   "cell_type": "code",
   "execution_count": 8,
   "metadata": {},
   "outputs": [],
   "source": [
    "data = ['Ace', 50, 91.9, (2020, 10, 11)]\n",
    "_, shares, price, _ = data"
   ]
  },
  {
   "cell_type": "markdown",
   "metadata": {},
   "source": [
    "## 1.2 Unpacking elements from iterable of arbitary Length"
   ]
  },
  {
   "cell_type": "markdown",
   "metadata": {},
   "source": [
    "### Problem \n",
    " You need to unpack N elements from an iterable, but the iterable may be longer than N elements, causing a “too many values to unpack” exception.\n",
    " \n",
    " ### Solution\n",
    " 'Star expressions' can be used to address this problem."
   ]
  },
  {
   "cell_type": "markdown",
   "metadata": {},
   "source": [
    "For example:\n",
    "\n",
    "suppose you run a course and decide at the end of the semester that you’re going to drop the first and last homework grades, and only average the rest of them. If there are only four assignments, maybe you simply unpack all four, but what if there are 24? A star expression makes it easy: "
   ]
  },
  {
   "cell_type": "code",
   "execution_count": 12,
   "metadata": {},
   "outputs": [],
   "source": [
    "def drop_first_last(grades):\n",
    "    first, *middle, last = grades\n",
    "    return avg(middle)"
   ]
  },
  {
   "cell_type": "markdown",
   "metadata": {},
   "source": [
    "You could also unpack like this:"
   ]
  },
  {
   "cell_type": "code",
   "execution_count": 16,
   "metadata": {},
   "outputs": [
    {
     "name": "stdout",
     "output_type": "stream",
     "text": [
      "Name: Dave\n",
      "Email: dave@exmpl.com\n",
      " Phone Numbers: ['444-555-3543', '888-373-7763']\n"
     ]
    }
   ],
   "source": [
    "record = ('Dave', 'dave@exmpl.com', '444-555-3543', '888-373-7763')\n",
    "name , email, *phone_number = record\n",
    "print(f'Name: {name}\\nEmail: {email}\\n Phone Numbers: {phone_number}')"
   ]
  },
  {
   "cell_type": "markdown",
   "metadata": {},
   "source": [
    "Star unpacking can also be useful when combined with certain kinds of string processing operations, such as splitting.\n",
    "\n",
    "For example:"
   ]
  },
  {
   "cell_type": "code",
   "execution_count": 19,
   "metadata": {},
   "outputs": [
    {
     "name": "stdout",
     "output_type": "stream",
     "text": [
      "nobody\n",
      "/usr/bin/false\n"
     ]
    }
   ],
   "source": [
    "line = 'nobody:*:-2:-2:Unprivileged User:/var/empty:/usr/bin/false'\n",
    "uname, *fields, homedir, sh = line.split(':')\n",
    "print(uname)\n",
    "print(sh)"
   ]
  },
  {
   "cell_type": "markdown",
   "metadata": {},
   "source": [
    "Sometimes you might want to unpack values and throw them away. You can’t just specify a bare * when unpacking, but you could use a common throwaway variable name, such as **_** or **ign** (ignored). \n",
    "\n",
    "for example:"
   ]
  },
  {
   "cell_type": "code",
   "execution_count": 24,
   "metadata": {},
   "outputs": [
    {
     "name": "stdout",
     "output_type": "stream",
     "text": [
      "Name: Ace\n",
      "Year: 27\n"
     ]
    }
   ],
   "source": [
    "record = ('Ace', 50, 123, (2020,10,27))\n",
    "name, *_, (*_, year) = record\n",
    "print(f'Name: {name}\\nYear: {year}')"
   ]
  },
  {
   "cell_type": "markdown",
   "metadata": {},
   "source": [
    "If you have a list, you can easily split it into head and tail components like this: "
   ]
  },
  {
   "cell_type": "code",
   "execution_count": 27,
   "metadata": {},
   "outputs": [
    {
     "data": {
      "text/plain": [
       "35"
      ]
     },
     "execution_count": 27,
     "metadata": {},
     "output_type": "execute_result"
    }
   ],
   "source": [
    "def summ(items):\n",
    "    head, *tail = items\n",
    "    return head + sum(tail) if tail else head\n",
    "summ([10,7,4,5,9])"
   ]
  },
  {
   "cell_type": "code",
   "execution_count": null,
   "metadata": {},
   "outputs": [],
   "source": []
  }
 ],
 "metadata": {
  "hide_input": false,
  "kernelspec": {
   "display_name": "Python 3",
   "language": "python",
   "name": "python3"
  },
  "language_info": {
   "codemirror_mode": {
    "name": "ipython",
    "version": 3
   },
   "file_extension": ".py",
   "mimetype": "text/x-python",
   "name": "python",
   "nbconvert_exporter": "python",
   "pygments_lexer": "ipython3",
   "version": "3.7.7"
  }
 },
 "nbformat": 4,
 "nbformat_minor": 4
}
