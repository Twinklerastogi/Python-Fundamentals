{
 "cells": [
  {
   "cell_type": "markdown",
   "metadata": {},
   "source": [
    "### The program takes a key-value pair and adds it to the dictionary."
   ]
  },
  {
   "cell_type": "code",
   "execution_count": 5,
   "metadata": {},
   "outputs": [
    {
     "name": "stdout",
     "output_type": "stream",
     "text": [
      "1\n",
      "'egg'\n",
      "Updated dictionary  {1: 'egg'}\n"
     ]
    }
   ],
   "source": [
    "key = eval(input())\n",
    "value = eval(input())\n",
    "d={}\n",
    "d.update({key:value})\n",
    "print('Updated dictionary ',d)"
   ]
  },
  {
   "cell_type": "markdown",
   "metadata": {},
   "source": [
    "### Concatenate two dictionaries into one"
   ]
  },
  {
   "cell_type": "code",
   "execution_count": 6,
   "metadata": {},
   "outputs": [
    {
     "name": "stdout",
     "output_type": "stream",
     "text": [
      "{1:'one', 2:'two'}\n",
      "{3:'three', 4:'four'}\n",
      "{1: 'one', 2: 'two', 3: 'three', 4: 'four'}\n"
     ]
    }
   ],
   "source": [
    "d1 = eval(input())\n",
    "d2 = eval(input())\n",
    "d1.update(d2)\n",
    "print(d1)"
   ]
  },
  {
   "cell_type": "markdown",
   "metadata": {},
   "source": [
    "### The program takes a dictionary and checks if a given key exists in a dictionary or not."
   ]
  },
  {
   "cell_type": "code",
   "execution_count": 9,
   "metadata": {},
   "outputs": [
    {
     "name": "stdout",
     "output_type": "stream",
     "text": [
      "{1:'a', 2:'b', 3:'c'}\n",
      "1\n",
      "Present and its value is :  a\n"
     ]
    }
   ],
   "source": [
    "d = eval(input())\n",
    "key = eval(input())\n",
    "flag = 0\n",
    "for i in d.keys():\n",
    "    if i==key:\n",
    "        flag = 1\n",
    "        \n",
    "if flag ==0:\n",
    "    print('Not present')\n",
    "else:\n",
    "    print('Present and its value is : ',d[key])\n",
    "        "
   ]
  },
  {
   "cell_type": "code",
   "execution_count": 10,
   "metadata": {},
   "outputs": [
    {
     "name": "stdout",
     "output_type": "stream",
     "text": [
      "{1:'a', 2:'b'}\n",
      "2\n",
      "Present and its value is :  b\n"
     ]
    }
   ],
   "source": [
    "d = eval(input())\n",
    "key = eval(input())\n",
    "\n",
    "if key in d.keys():\n",
    "    print('Present and its value is : ',d[key])\n",
    "else:\n",
    "    print('Not present')\n",
    "    "
   ]
  },
  {
   "cell_type": "code",
   "execution_count": 14,
   "metadata": {},
   "outputs": [
    {
     "name": "stdout",
     "output_type": "stream",
     "text": [
      "{1:'a', 2:'b'}\n",
      "3\n",
      "Not Present\n"
     ]
    }
   ],
   "source": [
    "d = eval(input())\n",
    "key = eval(input())\n",
    "if d.get(key)!=None:\n",
    "    print('Prsent and its values is ',d.get(key))\n",
    "else:\n",
    "    print('Not Present')"
   ]
  },
  {
   "cell_type": "markdown",
   "metadata": {},
   "source": [
    "### Python Program to Generate a Dictionary that Contains Numbers (between 1 and n) in the Form (x,x*x)."
   ]
  },
  {
   "cell_type": "code",
   "execution_count": 19,
   "metadata": {},
   "outputs": [
    {
     "name": "stdout",
     "output_type": "stream",
     "text": [
      "5\n",
      "{0: 0, 1: 1, 2: 4, 3: 9, 4: 16, 5: 25}\n"
     ]
    }
   ],
   "source": [
    "n=int(input())\n",
    "print({x:x*x for x in range(6)})\n"
   ]
  },
  {
   "cell_type": "markdown",
   "metadata": {},
   "source": [
    "### The program takes a dictionary and prints the sum of all the items in the dictionary."
   ]
  },
  {
   "cell_type": "code",
   "execution_count": 21,
   "metadata": {},
   "outputs": [
    {
     "name": "stdout",
     "output_type": "stream",
     "text": [
      "{'one':1, 'two':2, 'three':3}\n",
      "Sum of all the items :  6\n"
     ]
    }
   ],
   "source": [
    "dic = eval(input())\n",
    "print('Sum of all the items : ',sum(dic.values()))"
   ]
  },
  {
   "cell_type": "markdown",
   "metadata": {},
   "source": [
    "### Python Program to Multiply All the Items in a Dictionary"
   ]
  },
  {
   "cell_type": "code",
   "execution_count": 31,
   "metadata": {},
   "outputs": [
    {
     "name": "stdout",
     "output_type": "stream",
     "text": [
      "{'one':1, 'two':2, 'three':3}\n",
      "6\n"
     ]
    }
   ],
   "source": [
    "tot = 1\n",
    "dic = eval(input())\n",
    "for i in dic.values():\n",
    "    tot*=i\n",
    "    \n",
    "print(tot)\n",
    "    "
   ]
  },
  {
   "cell_type": "markdown",
   "metadata": {},
   "source": [
    "### This is a Python Program to remove the given key from a dictionary."
   ]
  },
  {
   "cell_type": "code",
   "execution_count": 33,
   "metadata": {},
   "outputs": [
    {
     "name": "stdout",
     "output_type": "stream",
     "text": [
      "{1:'a', 2:'b', 3:'c'}\n",
      "2\n",
      "Dictionary After Removing :  {1: 'a', 3: 'c'}\n"
     ]
    }
   ],
   "source": [
    "d = eval(input())\n",
    "k = eval(input())\n",
    "d.pop(k)\n",
    "print('Dictionary After Removing : ',d)"
   ]
  },
  {
   "cell_type": "markdown",
   "metadata": {},
   "source": [
    "### The program takes two lists and maps two lists into a dictionary"
   ]
  },
  {
   "cell_type": "code",
   "execution_count": 40,
   "metadata": {},
   "outputs": [
    {
     "name": "stdout",
     "output_type": "stream",
     "text": [
      "a,b,c\n",
      "'x,y,z\n",
      "{'a': \"'x\", 'b': 'y', 'c': 'z'}\n"
     ]
    }
   ],
   "source": [
    "keys = [x for x in input().split(',')]\n",
    "values = [x for x in input().split(',')]\n",
    "d = dict(zip(keys, values))\n",
    "print(d)"
   ]
  },
  {
   "cell_type": "markdown",
   "metadata": {},
   "source": [
    "### The program takes a string and counts the frequency of alphabets appearing in that string using a dictionary."
   ]
  },
  {
   "cell_type": "code",
   "execution_count": 43,
   "metadata": {},
   "outputs": [
    {
     "name": "stdout",
     "output_type": "stream",
     "text": [
      "Hazz\n",
      "{'H': 1, 'a': 1, 'z': 2}\n"
     ]
    }
   ],
   "source": [
    "string=input()\n",
    "f={}\n",
    "for i in string:\n",
    "    f[i]=f.get(i,0)+1\n",
    "print(f)"
   ]
  },
  {
   "cell_type": "markdown",
   "metadata": {},
   "source": [
    "### The program takes a string and counts the frequency of words appearing in that string using a dictionary."
   ]
  },
  {
   "cell_type": "code",
   "execution_count": 46,
   "metadata": {},
   "outputs": [
    {
     "name": "stdout",
     "output_type": "stream",
     "text": [
      "Python dictionary python list python sets\n",
      "{'Python': 1, 'dictionary': 1, 'python': 2, 'list': 1, 'sets': 1}\n"
     ]
    }
   ],
   "source": [
    "string = input().split()\n",
    "f={}\n",
    "for i in string:\n",
    "    f[i] = f.get(i,0)+1\n",
    "print(f)"
   ]
  },
  {
   "cell_type": "markdown",
   "metadata": {},
   "source": [
    "### The program takes a string and creates a dictionary with key as first character and value as words starting with that character."
   ]
  },
  {
   "cell_type": "code",
   "execution_count": 51,
   "metadata": {},
   "outputs": [
    {
     "name": "stdout",
     "output_type": "stream",
     "text": [
      "Enter string:Hello world this is test string\n",
      "H : ['Hello']\n",
      "w : ['world']\n",
      "t : ['this', 'test']\n",
      "i : ['is']\n",
      "s : ['string']\n"
     ]
    }
   ],
   "source": [
    "string=input(\"Enter string:\")\n",
    "l=string.split()\n",
    "d={}\n",
    "for word in l:\n",
    "    if(word[0] not in d.keys()):\n",
    "        d[word[0]]=[]\n",
    "        d[word[0]].append(word)\n",
    "    else:\n",
    "        if(word not in d[word[0]]):\n",
    "             d[word[0]].append(word)\n",
    "for k,v in d.items():\n",
    "        print(k,\":\",v)"
   ]
  }
 ],
 "metadata": {
  "hide_input": false,
  "kernelspec": {
   "display_name": "Python 3",
   "language": "python",
   "name": "python3"
  },
  "language_info": {
   "codemirror_mode": {
    "name": "ipython",
    "version": 3
   },
   "file_extension": ".py",
   "mimetype": "text/x-python",
   "name": "python",
   "nbconvert_exporter": "python",
   "pygments_lexer": "ipython3",
   "version": "3.7.7"
  }
 },
 "nbformat": 4,
 "nbformat_minor": 4
}
