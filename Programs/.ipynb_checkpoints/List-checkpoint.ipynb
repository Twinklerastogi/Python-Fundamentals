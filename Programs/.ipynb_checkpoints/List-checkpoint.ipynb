{
 "cells": [
  {
   "cell_type": "markdown",
   "metadata": {},
   "source": [
    "## List"
   ]
  },
  {
   "cell_type": "markdown",
   "metadata": {},
   "source": [
    "### Python Program to Find the Largest Number in a List"
   ]
  },
  {
   "cell_type": "code",
   "execution_count": 4,
   "metadata": {},
   "outputs": [
    {
     "name": "stdout",
     "output_type": "stream",
     "text": [
      "14 8 11 90 3\n",
      "Largest number is 90\n"
     ]
    }
   ],
   "source": [
    "l = list(map(int, input().split()))\n",
    "print(f'Largest number is {max(l)}')"
   ]
  },
  {
   "cell_type": "code",
   "execution_count": 5,
   "metadata": {},
   "outputs": [
    {
     "name": "stdout",
     "output_type": "stream",
     "text": [
      "44 23 11 90 334 2\n",
      "Largest number is 334\n"
     ]
    }
   ],
   "source": [
    "l = [int(x) for x in input().split()]\n",
    "l.sort()\n",
    "print(f\"Largest number is {l[-1]}\")"
   ]
  },
  {
   "cell_type": "markdown",
   "metadata": {},
   "source": [
    "### Python program to find the kth largest number in a list."
   ]
  },
  {
   "cell_type": "code",
   "execution_count": 9,
   "metadata": {},
   "outputs": [
    {
     "name": "stdout",
     "output_type": "stream",
     "text": [
      "8 3 9 11 23 2\n",
      "3\n",
      "3th largest element is 9\n"
     ]
    }
   ],
   "source": [
    "def kLarge(l, k):\n",
    "    l.sort()\n",
    "    print(f\"{k}th largest element is {l[-k]}\")\n",
    "l = list(map(int, input().split()))\n",
    "k = int(input())\n",
    "kLarge(l,k)"
   ]
  },
  {
   "cell_type": "markdown",
   "metadata": {},
   "source": [
    "### Python Program to Sort the List According to the Second Element in Sublist"
   ]
  },
  {
   "cell_type": "code",
   "execution_count": 14,
   "metadata": {},
   "outputs": [
    {
     "name": "stdout",
     "output_type": "stream",
     "text": [
      "[['B', 21], ['C', 26], ['A', 34]]\n"
     ]
    }
   ],
   "source": [
    "lis =[['A',34],['B',21],['C',26]]\n",
    "print(sorted(lis, key = lambda x : x[1]))"
   ]
  },
  {
   "cell_type": "markdown",
   "metadata": {},
   "source": [
    "### Python Program to Sort a List According to the Length of the Elemets"
   ]
  },
  {
   "cell_type": "code",
   "execution_count": 21,
   "metadata": {},
   "outputs": [
    {
     "name": "stdout",
     "output_type": "stream",
     "text": [
      "['Egg', 'apple', 'Orange', 'Banana']\n"
     ]
    }
   ],
   "source": [
    "lis = ['Orange','Egg', 'apple', 'Banana']\n",
    "lis.sort(key = lambda x: len(x))\n",
    "print(lis)"
   ]
  },
  {
   "cell_type": "code",
   "execution_count": null,
   "metadata": {},
   "outputs": [],
   "source": []
  }
 ],
 "metadata": {
  "hide_input": false,
  "kernelspec": {
   "display_name": "Python 3",
   "language": "python",
   "name": "python3"
  },
  "language_info": {
   "codemirror_mode": {
    "name": "ipython",
    "version": 3
   },
   "file_extension": ".py",
   "mimetype": "text/x-python",
   "name": "python",
   "nbconvert_exporter": "python",
   "pygments_lexer": "ipython3",
   "version": "3.7.7"
  }
 },
 "nbformat": 4,
 "nbformat_minor": 4
}
