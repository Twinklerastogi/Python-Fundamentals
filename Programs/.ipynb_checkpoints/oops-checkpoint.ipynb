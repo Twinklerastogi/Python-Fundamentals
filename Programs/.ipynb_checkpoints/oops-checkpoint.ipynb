{
 "cells": [
  {
   "cell_type": "markdown",
   "metadata": {},
   "source": [
    "### The program takes the length and breadth from the user and finds the area of the rectangle using classes."
   ]
  },
  {
   "cell_type": "code",
   "execution_count": 4,
   "metadata": {},
   "outputs": [
    {
     "name": "stdout",
     "output_type": "stream",
     "text": [
      "4\n",
      "5\n",
      "Area of Rectangle is 20\n",
      "\n"
     ]
    }
   ],
   "source": [
    "class Area:\n",
    "    def __init__(self, length, breadth):\n",
    "        self.length = length\n",
    "        self.breadth = breadth\n",
    "    def area(self):\n",
    "        return self.length * self.breadth\n",
    "\n",
    "l = int(input())\n",
    "b = int(input())\n",
    "obj = Area(l, b)\n",
    "print(f'Area of Rectangle is {obj.area()}\\n')"
   ]
  },
  {
   "cell_type": "markdown",
   "metadata": {},
   "source": [
    "### The program appends, deletes and displays elements of a list using classes."
   ]
  },
  {
   "cell_type": "code",
   "execution_count": 4,
   "metadata": {},
   "outputs": [
    {
     "name": "stdout",
     "output_type": "stream",
     "text": [
      "0. Exit\n",
      "1. Add\n",
      "2. Delete\n",
      "3. Display\n",
      "Enter choice: 1\n",
      "Enter number to append: 23\n",
      "0. Exit\n",
      "1. Add\n",
      "2. Delete\n",
      "3. Display\n",
      "Enter choice: 3\n",
      "List:  [23]\n",
      "0. Exit\n",
      "1. Add\n",
      "2. Delete\n",
      "3. Display\n",
      "Enter choice: 2\n",
      "Enter number to remove: 23\n",
      "0. Exit\n",
      "1. Add\n",
      "2. Delete\n",
      "3. Display\n",
      "Enter choice: 3\n",
      "List:  []\n",
      "0. Exit\n",
      "1. Add\n",
      "2. Delete\n",
      "3. Display\n",
      "Enter choice: 0\n",
      "Exiting!\n",
      "\n"
     ]
    }
   ],
   "source": [
    "class List:\n",
    "    def __init__(self):\n",
    "        self.n = []\n",
    "    def add(self,a):\n",
    "        self.n.append(a)\n",
    "    def remove(self, b):\n",
    "        self.n.remove(b)\n",
    "    def display(self):\n",
    "        return self.n\n",
    "obj = List()\n",
    "case = {\n",
    "    0: 'exit',\n",
    "    1: obj.add,\n",
    "    2: obj.remove,\n",
    "    3: obj.display\n",
    "}\n",
    "\n",
    "\n",
    "choice = 9\n",
    "while choice!=0:\n",
    "    print(\"0. Exit\")\n",
    "    print(\"1. Add\")\n",
    "    print(\"2. Delete\")\n",
    "    print(\"3. Display\")\n",
    "    choice=int(input(\"Enter choice: \"))\n",
    "    if choice==1:\n",
    "        n=int(input(\"Enter number to append: \"))\n",
    "        case[choice](n)\n",
    "        \n",
    " \n",
    "    elif choice==2:\n",
    "        n=int(input(\"Enter number to remove: \"))\n",
    "        case[choice](n)\n",
    "    \n",
    " \n",
    "    elif choice==3:\n",
    "        print(\"List: \",case[choice]())\n",
    "    elif choice==0:\n",
    "        print(\"Exiting!\")\n",
    "    else:\n",
    "        print(\"Invalid choice!!\")\n",
    "print()    "
   ]
  },
  {
   "cell_type": "markdown",
   "metadata": {},
   "source": [
    "### The program takes the radius from the user and finds the area and perimeter of the circle using classes"
   ]
  },
  {
   "cell_type": "code",
   "execution_count": 10,
   "metadata": {},
   "outputs": [
    {
     "name": "stdout",
     "output_type": "stream",
     "text": [
      "10\n",
      "Area of circle is 314.16\n",
      "Perimeter of Circle is 62.83\n"
     ]
    }
   ],
   "source": [
    "import math\n",
    "class Circle:\n",
    "    def __init__(self, radius):\n",
    "        self.radius = radius\n",
    "        \n",
    "    def area(self):\n",
    "        return math.pi*(self.radius**2)\n",
    "        \n",
    "    def perimeter(self):\n",
    "        return 2*math.pi*self.radius\n",
    "\n",
    "r = int(input())\n",
    "obj = Circle(r)\n",
    "print(f'Area of circle is {obj.area():.2f}')\n",
    "print(f'Perimeter of Circle is {obj.perimeter():.2f}')"
   ]
  },
  {
   "cell_type": "markdown",
   "metadata": {},
   "source": [
    "### The program takes the string from the user and prints the string using classes."
   ]
  },
  {
   "cell_type": "code",
   "execution_count": 14,
   "metadata": {},
   "outputs": [
    {
     "name": "stdout",
     "output_type": "stream",
     "text": [
      "Python\n",
      "String is :  Python\n"
     ]
    }
   ],
   "source": [
    "class String:\n",
    "    def __init__(self):\n",
    "        self.s = ''\n",
    "    def inputStr(self):\n",
    "        self.s = input()\n",
    "    def display(self):\n",
    "        print('String is : ',self.s)\n",
    "        \n",
    "obj = String()\n",
    "obj.inputStr()\n",
    "obj.display()"
   ]
  },
  {
   "cell_type": "markdown",
   "metadata": {},
   "source": [
    "### Write a Python program to get all possible unique subsets from a set of distinct integers."
   ]
  },
  {
   "cell_type": "code",
   "execution_count": 2,
   "metadata": {},
   "outputs": [
    {
     "name": "stdout",
     "output_type": "stream",
     "text": [
      "[[], [6], [5], [5, 6], [4], [4, 6], [4, 5], [4, 5, 6]]\n"
     ]
    }
   ],
   "source": [
    "class SubSet:\n",
    "    def sub_sets(self, sset):\n",
    "        return self.subsetsRecur([], sorted(sset))\n",
    "    \n",
    "    def subsetsRecur(self, current, sset):\n",
    "        if sset:\n",
    "            return self.subsetsRecur(current, sset[1:]) + self.subsetsRecur(current + [sset[0]], sset[1:])\n",
    "        return [current]\n",
    "\n",
    "print(SubSet().sub_sets([4,5,6]))"
   ]
  },
  {
   "cell_type": "code",
   "execution_count": null,
   "metadata": {},
   "outputs": [],
   "source": []
  }
 ],
 "metadata": {
  "hide_input": false,
  "kernelspec": {
   "display_name": "Python 3",
   "language": "python",
   "name": "python3"
  },
  "language_info": {
   "codemirror_mode": {
    "name": "ipython",
    "version": 3
   },
   "file_extension": ".py",
   "mimetype": "text/x-python",
   "name": "python",
   "nbconvert_exporter": "python",
   "pygments_lexer": "ipython3",
   "version": "3.7.7"
  }
 },
 "nbformat": 4,
 "nbformat_minor": 4
}
