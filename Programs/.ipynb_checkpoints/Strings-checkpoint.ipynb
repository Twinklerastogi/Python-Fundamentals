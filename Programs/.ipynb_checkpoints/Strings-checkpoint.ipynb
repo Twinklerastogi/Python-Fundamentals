{
 "cells": [
  {
   "cell_type": "markdown",
   "metadata": {},
   "source": [
    "### The program takes a string and replaces all occurrences of ‘a’ with ‘$’."
   ]
  },
  {
   "cell_type": "code",
   "execution_count": 8,
   "metadata": {},
   "outputs": [
    {
     "name": "stdout",
     "output_type": "stream",
     "text": [
      "awesome\n",
      "$wesome\n"
     ]
    }
   ],
   "source": [
    "s=input().lower()\n",
    "s = s.replace('a','$')\n",
    "print(s)"
   ]
  },
  {
   "cell_type": "markdown",
   "metadata": {},
   "source": [
    "### The program takes a string and removes the nth index character from the non-empty string."
   ]
  },
  {
   "cell_type": "code",
   "execution_count": 19,
   "metadata": {},
   "outputs": [
    {
     "name": "stdout",
     "output_type": "stream",
     "text": [
      "Helo\n"
     ]
    }
   ],
   "source": [
    "def rmv(s,n):\n",
    "    p=s[:n]+s[n+1:]\n",
    "    print(p)\n",
    "rmv('Hello',3)"
   ]
  },
  {
   "cell_type": "markdown",
   "metadata": {},
   "source": [
    "### The program takes two strings and checks if the two strings are anagrams."
   ]
  },
  {
   "cell_type": "code",
   "execution_count": 21,
   "metadata": {},
   "outputs": [
    {
     "name": "stdout",
     "output_type": "stream",
     "text": [
      "school master\n",
      "the classroom\n",
      "Anagrams\n"
     ]
    }
   ],
   "source": [
    "str1 = input().lower()\n",
    "str2 = input().lower()\n",
    "if (sorted(str1))==(sorted(str2)):\n",
    "    print('Anagrams')\n",
    "else:\n",
    "    print('Not anagrams')"
   ]
  },
  {
   "cell_type": "markdown",
   "metadata": {},
   "source": [
    "### The program takes a string and swaps the first character and the last character of the string."
   ]
  },
  {
   "cell_type": "code",
   "execution_count": 23,
   "metadata": {},
   "outputs": [
    {
     "name": "stdout",
     "output_type": "stream",
     "text": [
      "abcd\n",
      "dbca\n"
     ]
    }
   ],
   "source": [
    "s=input()\n",
    "fin = s[-1]+s[1:-1]+s[0]\n",
    "print(fin)"
   ]
  },
  {
   "cell_type": "markdown",
   "metadata": {},
   "source": [
    "### Count number of vowels in a string"
   ]
  },
  {
   "cell_type": "code",
   "execution_count": 25,
   "metadata": {},
   "outputs": [
    {
     "name": "stdout",
     "output_type": "stream",
     "text": [
      "Vowels\n",
      "Number of vowels 2\n"
     ]
    }
   ],
   "source": [
    "s= input().lower()\n",
    "vow = ['a','e','i','o','u']\n",
    "c=0\n",
    "for i in s:\n",
    "    if i in vow:\n",
    "        c+=1\n",
    "print(f'Number of vowels {c}')"
   ]
  },
  {
   "cell_type": "markdown",
   "metadata": {},
   "source": [
    "### The program takes a string and replaces every blank space with a hyphen."
   ]
  },
  {
   "cell_type": "code",
   "execution_count": 27,
   "metadata": {},
   "outputs": [
    {
     "name": "stdout",
     "output_type": "stream",
     "text": [
      "Hello world\n",
      "Hello-world\n"
     ]
    }
   ],
   "source": [
    "s=input()\n",
    "s=s.replace(' ','-')\n",
    "print(s)"
   ]
  },
  {
   "cell_type": "code",
   "execution_count": null,
   "metadata": {},
   "outputs": [],
   "source": []
  }
 ],
 "metadata": {
  "hide_input": false,
  "kernelspec": {
   "display_name": "Python 3",
   "language": "python",
   "name": "python3"
  },
  "language_info": {
   "codemirror_mode": {
    "name": "ipython",
    "version": 3
   },
   "file_extension": ".py",
   "mimetype": "text/x-python",
   "name": "python",
   "nbconvert_exporter": "python",
   "pygments_lexer": "ipython3",
   "version": "3.7.7"
  }
 },
 "nbformat": 4,
 "nbformat_minor": 4
}
