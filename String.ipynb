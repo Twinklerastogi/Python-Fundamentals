{
 "cells": [
  {
   "cell_type": "markdown",
   "metadata": {},
   "source": [
    "# String"
   ]
  },
  {
   "cell_type": "markdown",
   "metadata": {},
   "source": [
    "The most commonly used object in any project and in any programming language is String only. Hence we should aware complete information about String data type.\n",
    "\n",
    "Any sequence of characters within either single quotes or double quotes is considered as a string.\n",
    "\n",
    "Example:"
   ]
  },
  {
   "cell_type": "code",
   "execution_count": 3,
   "metadata": {},
   "outputs": [
    {
     "name": "stdout",
     "output_type": "stream",
     "text": [
      "Data type of a is <class 'str'>\n",
      "Data type of b is <class 'str'>\n"
     ]
    }
   ],
   "source": [
    "a='Python'\n",
    "b=\"Programmin\"\n",
    "print(f'Data type of a is {type(a)}')\n",
    "\n",
    "print(f'Data type of b is {type(b)}')"
   ]
  },
  {
   "cell_type": "markdown",
   "metadata": {},
   "source": [
    "### Define multi-line string literal\n",
    "We can define multi-line string literals by using triple single or double quotes.\n",
    "\n",
    "Example:"
   ]
  },
  {
   "cell_type": "code",
   "execution_count": 5,
   "metadata": {},
   "outputs": [],
   "source": [
    "s= '''Python \n",
    "Programming'''"
   ]
  },
  {
   "cell_type": "markdown",
   "metadata": {},
   "source": [
    "We can use triple quotes to use single or double quotes as symbol inside string literal."
   ]
  },
  {
   "cell_type": "code",
   "execution_count": 7,
   "metadata": {},
   "outputs": [],
   "source": [
    "s='''\"Python Programming\" is very helpful'''"
   ]
  },
  {
   "cell_type": "markdown",
   "metadata": {},
   "source": [
    "### Access characters of a string\n",
    "1.By using index\n",
    "\n",
    "Python supports both +ve and -ve index. +ve index means left to right(Forward direction) -ve index means right to left(Backward direction)."
   ]
  },
  {
   "cell_type": "code",
   "execution_count": 10,
   "metadata": {},
   "outputs": [
    {
     "data": {
      "text/plain": [
       "'P'"
      ]
     },
     "execution_count": 10,
     "metadata": {},
     "output_type": "execute_result"
    }
   ],
   "source": [
    "s='Python'\n",
    "s[0]"
   ]
  },
  {
   "cell_type": "code",
   "execution_count": 11,
   "metadata": {},
   "outputs": [
    {
     "data": {
      "text/plain": [
       "'n'"
      ]
     },
     "execution_count": 11,
     "metadata": {},
     "output_type": "execute_result"
    }
   ],
   "source": [
    "s[-1]"
   ]
  },
  {
   "cell_type": "markdown",
   "metadata": {},
   "source": [
    "#### 2.Accessing characters by using slice operator: \n",
    "Syntax: s[bEginindex:endindex:step] \n",
    " \n",
    "bEginindex:From where we have to consider slice(substring) endindex: We have to terminate the slice(substring) at endindex-1  step: incremented value \n",
    " \n",
    "##### Note: \n",
    "If we are not specifying bEgin index then it will consider from bEginning of the string. If we are not specifying end index then it will consider up to end of the string The default value for step is 1 \n",
    " "
   ]
  },
  {
   "cell_type": "code",
   "execution_count": 14,
   "metadata": {},
   "outputs": [
    {
     "data": {
      "text/plain": [
       "'earnin'"
      ]
     },
     "execution_count": 14,
     "metadata": {},
     "output_type": "execute_result"
    }
   ],
   "source": [
    "s=\"Learning Python is very very easy!!!\"\n",
    "s[1:7:1] "
   ]
  },
  {
   "cell_type": "markdown",
   "metadata": {},
   "source": [
    "### Behaviour of slice operator:\n",
    "s[bEgin:end:step] \n",
    " \n",
    "step value can be either +ve or –ve \n",
    " \n",
    "if +ve then  it should be forward direction(left to right) and we have to consider bEgin to end-1 \n",
    " \n",
    "if -ve then it should be backward direction(right to left) and we have to consider bEgin to end+1 "
   ]
  },
  {
   "cell_type": "markdown",
   "metadata": {},
   "source": [
    "### len() in-built function\n",
    "   We can use len() function to find the number of characters present in the string."
   ]
  },
  {
   "cell_type": "code",
   "execution_count": 19,
   "metadata": {},
   "outputs": [
    {
     "name": "stdout",
     "output_type": "stream",
     "text": [
      "6\n"
     ]
    }
   ],
   "source": [
    "s='Python'\n",
    "print(len(s))"
   ]
  },
  {
   "cell_type": "markdown",
   "metadata": {},
   "source": [
    "### Checking Membership\n",
    "We can check whether the character or string is the member of another string or not by using in and not in operators "
   ]
  },
  {
   "cell_type": "code",
   "execution_count": 21,
   "metadata": {},
   "outputs": [
    {
     "name": "stdout",
     "output_type": "stream",
     "text": [
      "True\n"
     ]
    }
   ],
   "source": [
    "s='Python'\n",
    "print('t' in s)"
   ]
  },
  {
   "cell_type": "markdown",
   "metadata": {},
   "source": [
    "### Comparison of Strings\n",
    "We can use comparison operators (<,<=,>,>=) and equality operators(==,!=) for strings. \n",
    " \n",
    "Comparison will be performed based on alphabetical order."
   ]
  },
  {
   "cell_type": "code",
   "execution_count": 24,
   "metadata": {},
   "outputs": [
    {
     "name": "stdout",
     "output_type": "stream",
     "text": [
      "Enter First string\n",
      "Enter second string\n",
      "Same\n"
     ]
    }
   ],
   "source": [
    "s1 = input('Enter First string')\n",
    "s2 = input('Enter second string')\n",
    "\n",
    "if s1==s2:\n",
    "    print('Same')\n",
    "else:\n",
    "    print('Different')"
   ]
  },
  {
   "cell_type": "markdown",
   "metadata": {},
   "source": [
    "### Removing space from strings\n",
    "We can use the following 3 methods \n",
    " \n",
    "1. rstrip()===>To remove spaces at right hand side \n",
    "2. lstrip()===>To remove spaces at left hand side \n",
    "3. strip() ==>To remove spaces both sides "
   ]
  },
  {
   "cell_type": "code",
   "execution_count": 26,
   "metadata": {},
   "outputs": [
    {
     "name": "stdout",
     "output_type": "stream",
     "text": [
      "Enter your city nameHyderabad\n",
      "Hello Hyderbadi..Adab\n"
     ]
    }
   ],
   "source": [
    "city = input('Enter your city name')\n",
    "scity = city.strip()\n",
    "if scity=='Hyderabad':   \n",
    "    print(\"Hello Hyderbadi..Adab\")   \n",
    "elif scity=='Chennai':   \n",
    "    print(\"Hello Madrasi...Vanakkam\")   \n",
    "elif scity==\"Bangalore\":   \n",
    "    print(\"Hello Kannadiga...Shubhodaya\")   \n",
    "else:  \n",
    "    print(\"your entered city is invalid\")   "
   ]
  },
  {
   "cell_type": "markdown",
   "metadata": {},
   "source": [
    "### Finding Substrings\n",
    "We can use the following 4 methods \n",
    " \n",
    "For forward direction: \n",
    " \n",
    "* find() \n",
    "* index() \n",
    " \n",
    "For backward direction: \n",
    " \n",
    "* rfind() \n",
    "* rindex() "
   ]
  },
  {
   "cell_type": "markdown",
   "metadata": {},
   "source": [
    "#### 1.find()\n",
    "s.find(substring) \n",
    " \n",
    "Returns index of first occurrence of the given substring. If it is not available then we will get -1 \n",
    " \n",
    "Example:"
   ]
  },
  {
   "cell_type": "code",
   "execution_count": 36,
   "metadata": {},
   "outputs": [
    {
     "name": "stdout",
     "output_type": "stream",
     "text": [
      "9\n"
     ]
    }
   ],
   "source": [
    "s = 'Learning python is very easy'\n",
    "print(s.find('python'))"
   ]
  },
  {
   "cell_type": "code",
   "execution_count": 37,
   "metadata": {},
   "outputs": [
    {
     "name": "stdout",
     "output_type": "stream",
     "text": [
      "-1\n"
     ]
    }
   ],
   "source": [
    "print(s.find('Java'))"
   ]
  },
  {
   "cell_type": "markdown",
   "metadata": {},
   "source": [
    "##### Note: \n",
    "By default find() method can search total string. We can also specify the boundaries to search. \n",
    " \n",
    "s.find(substring,bEgin,end) \n",
    " \n",
    "It will always search from bEgin index to end-1 index"
   ]
  },
  {
   "cell_type": "code",
   "execution_count": 39,
   "metadata": {},
   "outputs": [
    {
     "name": "stdout",
     "output_type": "stream",
     "text": [
      "-1\n"
     ]
    }
   ],
   "source": [
    "s = 'Mumbai'\n",
    "print(s.find('a',1,4))"
   ]
  },
  {
   "cell_type": "markdown",
   "metadata": {},
   "source": [
    "#### 2.index() method\n",
    "index() method is exactly same as find() method except that if the specified substring is not available then we will get ValueError. "
   ]
  },
  {
   "cell_type": "code",
   "execution_count": 42,
   "metadata": {},
   "outputs": [
    {
     "name": "stdout",
     "output_type": "stream",
     "text": [
      "Enter main string:Python is very easy\n",
      "Enter sub string:very\n",
      "substring found\n"
     ]
    }
   ],
   "source": [
    "s=input(\"Enter main string:\")    \n",
    "subs=input(\"Enter sub string:\")   \n",
    "try:\n",
    "    n=s.index(subs)   \n",
    "except ValueError:   \n",
    "    print(\"substring not found\")   \n",
    "else:   \n",
    "    print(\"substring found\") "
   ]
  }
 ],
 "metadata": {
  "hide_input": false,
  "kernelspec": {
   "display_name": "Python 3",
   "language": "python",
   "name": "python3"
  },
  "language_info": {
   "codemirror_mode": {
    "name": "ipython",
    "version": 3
   },
   "file_extension": ".py",
   "mimetype": "text/x-python",
   "name": "python",
   "nbconvert_exporter": "python",
   "pygments_lexer": "ipython3",
   "version": "3.7.7"
  }
 },
 "nbformat": 4,
 "nbformat_minor": 4
}
