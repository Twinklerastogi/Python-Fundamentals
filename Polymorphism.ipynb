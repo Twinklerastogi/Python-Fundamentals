{
 "cells": [
  {
   "cell_type": "markdown",
   "metadata": {},
   "source": [
    "# Polymorphism\n",
    "\n",
    "Polymorphism means 'Many Forms'.\n",
    "\n",
    "Examples: \n",
    "* '+' operator acts as concatenation and arithmetic addition.\n",
    "* '*' operator act as multiplication and repetition operator.\n",
    "\n"
   ]
  },
  {
   "cell_type": "markdown",
   "metadata": {},
   "source": [
    "Related to polymorphism the following 3 topics are important \n",
    " \n",
    "i). Duck Typing Philosophy of Python \n",
    " \n",
    "ii). Overloading   \n",
    "\n",
    "* Operator Overloading      \n",
    "* Method Overloading      \n",
    "* Constructor Overloading \n",
    " \n",
    "iii). Overriding\n",
    "\n",
    "* Method overriding      \n",
    "* constructor overriding"
   ]
  },
  {
   "cell_type": "markdown",
   "metadata": {},
   "source": [
    "### i). Duck Typing Philosophy of Python\n",
    " In Python we cannot specify the type explicitly. Based on provided value at runtime the type will be considered automatically. Hence Python is considered as Dynamically Typed Programming Language. \n",
    " \n",
    " def f1(obj):      \n",
    "               obj.talk() \n",
    " \n",
    "What is the type of obj? We cannot decide at the beginning. At runtime we can pass any type.Then how we can decide the type? At runtime if 'it walks like a duck and talks like a duck,it must be duck'. Python follows this principle. This is called Duck Typing Philosophy of Python. "
   ]
  },
  {
   "cell_type": "code",
   "execution_count": 2,
   "metadata": {},
   "outputs": [
    {
     "name": "stdout",
     "output_type": "stream",
     "text": [
      "Quack..Quack..\n",
      "Meow..Meow..\n",
      "Bow..Bow..\n",
      "Myaah..Myaah..\n"
     ]
    }
   ],
   "source": [
    "class Duck:\n",
    "    def talk(self):\n",
    "        print('Quack..Quack..')\n",
    "        \n",
    "class Dog:\n",
    "    def talk(self):\n",
    "        print('Bow..Bow..')\n",
    "        \n",
    "class Cat:\n",
    "    def talk(self):\n",
    "        print('Meow..Meow..')\n",
    "        \n",
    "class Goat:\n",
    "    def talk(self):\n",
    "        print('Myaah..Myaah..')\n",
    "        \n",
    "def f1(obj):\n",
    "    obj.talk()\n",
    "    \n",
    "l = [Duck(), Cat(), Dog(), Goat()]\n",
    "for obj in l:\n",
    "    f1(obj)"
   ]
  },
  {
   "cell_type": "markdown",
   "metadata": {},
   "source": [
    "The problem in this approach is if obj does not contain talk() method then we will get AttributeError.\n",
    "\n",
    "But we can solve this problem by using hasattr() function.\n",
    "\n",
    "**hasattr(obj,'attributename')**\n",
    "\n",
    "attributename can be method name or variable name.\n",
    "\n",
    "Example:"
   ]
  },
  {
   "cell_type": "code",
   "execution_count": 4,
   "metadata": {},
   "outputs": [
    {
     "name": "stdout",
     "output_type": "stream",
     "text": [
      "Quack Quack..\n",
      "Hello Hi..\n",
      "Bow Bow..\n"
     ]
    }
   ],
   "source": [
    "class Duck:\n",
    "    def talk(self):\n",
    "        print('Quack Quack..')\n",
    "        \n",
    "class Human:\n",
    "    def talk(self):\n",
    "        print('Hello Hi..')\n",
    "        \n",
    "class Dog:\n",
    "    def bark(self):\n",
    "        print('Bow Bow..')\n",
    "        \n",
    "def f1(obj):\n",
    "    if hasattr(obj, 'talk'):\n",
    "        obj.talk()\n",
    "    elif hasattr(obj, 'bark'):\n",
    "        obj.bark()\n",
    "        \n",
    "d = Duck()\n",
    "f1(d)\n",
    "\n",
    "h = Human()\n",
    "f1(h)\n",
    "\n",
    "d = Dog()\n",
    "f1(d)\n"
   ]
  },
  {
   "cell_type": "markdown",
   "metadata": {},
   "source": [
    "### ii).Overloading\n",
    "\n",
    "We can same operator or methods for different purposes.\n",
    "\n",
    "There are 3 types of overloading:\n",
    "\n",
    "1). Operator overloading\n",
    "\n",
    "2). Method overloading\n",
    "\n",
    "3). Constructor Overloading"
   ]
  },
  {
   "cell_type": "markdown",
   "metadata": {},
   "source": [
    "#### 1.Operator overloading\n",
    "\n",
    "We can use the same operator for multiple purposes, which is nothing but operator overloading. \n",
    " \n",
    "Python supports operator overloading. \n",
    "\n",
    "Example: "
   ]
  },
  {
   "cell_type": "code",
   "execution_count": 7,
   "metadata": {},
   "outputs": [
    {
     "ename": "TypeError",
     "evalue": "unsupported operand type(s) for +: 'Book' and 'Book'",
     "output_type": "error",
     "traceback": [
      "\u001b[1;31m---------------------------------------------------------------------------\u001b[0m",
      "\u001b[1;31mTypeError\u001b[0m                                 Traceback (most recent call last)",
      "\u001b[1;32m<ipython-input-7-6c04e65a00e0>\u001b[0m in \u001b[0;36m<module>\u001b[1;34m\u001b[0m\n\u001b[0;32m      4\u001b[0m \u001b[0mb1\u001b[0m \u001b[1;33m=\u001b[0m \u001b[0mBook\u001b[0m\u001b[1;33m(\u001b[0m\u001b[1;36m100\u001b[0m\u001b[1;33m)\u001b[0m\u001b[1;33m\u001b[0m\u001b[1;33m\u001b[0m\u001b[0m\n\u001b[0;32m      5\u001b[0m \u001b[0mb2\u001b[0m \u001b[1;33m=\u001b[0m \u001b[0mBook\u001b[0m\u001b[1;33m(\u001b[0m\u001b[1;36m200\u001b[0m\u001b[1;33m)\u001b[0m\u001b[1;33m\u001b[0m\u001b[1;33m\u001b[0m\u001b[0m\n\u001b[1;32m----> 6\u001b[1;33m \u001b[0mprint\u001b[0m\u001b[1;33m(\u001b[0m\u001b[0mb1\u001b[0m\u001b[1;33m+\u001b[0m\u001b[0mb2\u001b[0m\u001b[1;33m)\u001b[0m\u001b[1;33m\u001b[0m\u001b[1;33m\u001b[0m\u001b[0m\n\u001b[0m",
      "\u001b[1;31mTypeError\u001b[0m: unsupported operand type(s) for +: 'Book' and 'Book'"
     ]
    }
   ],
   "source": [
    "class Book:\n",
    "    def __init__(self, pages):\n",
    "        self.pages = pages\n",
    "b1 = Book(100)\n",
    "b2 = Book(200)\n",
    "print(b1+b2)"
   ]
  },
  {
   "cell_type": "markdown",
   "metadata": {},
   "source": [
    "We can overload + operator to work with Book objects also. i.e Python supports Operator Overloading. \n",
    " \n",
    "For every operator Magic Methods are available. To overload any operator we have to override that Method in our class.  Internally + operator is implemented by using __ add __ () method.This method is called magic method for + operator. We have to override this method in our class.  \n",
    " "
   ]
  },
  {
   "cell_type": "code",
   "execution_count": 9,
   "metadata": {},
   "outputs": [
    {
     "name": "stdout",
     "output_type": "stream",
     "text": [
      "The Total Number of pages 300\n"
     ]
    }
   ],
   "source": [
    "class Book:\n",
    "    def __init__(self, pages):\n",
    "        self.pages = pages\n",
    "        \n",
    "    def __add__(self, other):\n",
    "        return self.pages + other.pages\n",
    "    \n",
    "b1 = Book(100)\n",
    "b2 = Book(200)\n",
    "print(f'The Total Number of pages {b1+b2}')"
   ]
  },
  {
   "cell_type": "markdown",
   "metadata": {},
   "source": [
    "The following is the list of operators and corresponding magic methods:\n",
    "    \n",
    "    +    --->  object.__add__(self,other) \n",
    "    -    --->  object.__sub__(self,other) \n",
    "    *    --->  object.__mul__(self,other) \n",
    "    /    --->  object.__div__(self,other) \n",
    "    //    --->  object.__floordiv__(self,other) \n",
    "    %    --->  object.__mod__(self,other) \n",
    "    **    --->  object.__pow__(self,other) \n",
    "    +=    --->  object.__iadd__(self,other) \n",
    "    -=    --->  object.__isub__(self,other) \n",
    "    *=    --->  object.__imul__(self,other) \n",
    "    /=    --->  object.__idiv__(self,other) \n",
    "    //=    --->  object.__ifloordiv__(self,other) \n",
    "    %=    --->  object.__imod__(self,other) \n",
    "    **=    --->  object.__ipow__(self,other) \n",
    "    <    --->  object.__lt__(self,other) \n",
    "    <=    --->  object.__le__(self,other) \n",
    "    >    --->  object.__gt__(self,other) \n",
    "    >=   --->  object.__ge__(self,other) \n",
    "    ==    --->  object.__eq__(self,other) \n",
    "    !=    --->  object.__ne__(self,other) "
   ]
  },
  {
   "cell_type": "markdown",
   "metadata": {},
   "source": [
    "Overloading > amd <= operators for Student class objects"
   ]
  },
  {
   "cell_type": "code",
   "execution_count": 12,
   "metadata": {},
   "outputs": [
    {
     "name": "stdout",
     "output_type": "stream",
     "text": [
      "s1>s2=False\n",
      "s1<s2=True\n",
      "s1>=s2=False\n",
      "s1<=s2=True\n"
     ]
    }
   ],
   "source": [
    "class Student:\n",
    "    def __init__(self, name, marks):\n",
    "        self.name = name\n",
    "        self.marks = marks\n",
    "    def __gt__(self, other):\n",
    "        return self.marks>other.marks\n",
    "    def __le__(self, other):\n",
    "        return self.marks<=other.marks\n",
    "    \n",
    "s1 = Student('Jack', 100)\n",
    "s2 = Student('Ravi', 200)\n",
    "print(f's1>s2={s1>s2}')\n",
    "print(f's1<s2={s1<s2}')\n",
    "print(f's1>=s2={s1>=s2}')\n",
    "print(f's1<=s2={s1<=s2}')\n",
    "\n",
    "\n",
    "\n",
    "\n",
    "\n",
    "    \n",
    "    \n",
    "    "
   ]
  },
  {
   "cell_type": "markdown",
   "metadata": {},
   "source": [
    "Program to overload multiplication operator to work on employee objects"
   ]
  },
  {
   "cell_type": "code",
   "execution_count": 17,
   "metadata": {},
   "outputs": [
    {
     "name": "stdout",
     "output_type": "stream",
     "text": [
      "This month salary is 4200\n"
     ]
    }
   ],
   "source": [
    "class Employee:\n",
    "    def __init__(self, name, salary):\n",
    "        self.name = name\n",
    "        self.salary = salary\n",
    "    def __mul__(self, other):\n",
    "        return self.salary*other.days\n",
    "    \n",
    "class Timesheet:\n",
    "    def __init__(self, name, days):\n",
    "        self.name = name\n",
    "        self.days = days\n",
    "        \n",
    "e = Employee('Jack',600)\n",
    "t = Timesheet('Jack', 7)\n",
    "print(f'This month salary is {e*t}')\n",
    "    \n"
   ]
  }
 ],
 "metadata": {
  "hide_input": false,
  "kernelspec": {
   "display_name": "Python 3",
   "language": "python",
   "name": "python3"
  },
  "language_info": {
   "codemirror_mode": {
    "name": "ipython",
    "version": 3
   },
   "file_extension": ".py",
   "mimetype": "text/x-python",
   "name": "python",
   "nbconvert_exporter": "python",
   "pygments_lexer": "ipython3",
   "version": "3.7.7"
  }
 },
 "nbformat": 4,
 "nbformat_minor": 4
}
