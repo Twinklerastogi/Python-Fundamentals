{
 "cells": [
  {
   "cell_type": "markdown",
   "metadata": {},
   "source": [
    "# Polymorphism\n",
    "\n",
    "Polymorphism means 'Many Forms'.\n",
    "\n",
    "Examples: \n",
    "* '+' operator acts as concatenation and arithmetic addition.\n",
    "* '*' operator act as multiplication and repetition operator.\n",
    "\n"
   ]
  },
  {
   "cell_type": "markdown",
   "metadata": {},
   "source": [
    "Related to polymorphism the following 3 topics are important \n",
    " \n",
    "i). Duck Typing Philosophy of Python \n",
    " \n",
    "ii). Overloading   \n",
    "\n",
    "* Operator Overloading      \n",
    "* Method Overloading      \n",
    "* Constructor Overloading \n",
    " \n",
    "iii). Overriding\n",
    "\n",
    "* Method overriding      \n",
    "* constructor overriding"
   ]
  },
  {
   "cell_type": "markdown",
   "metadata": {},
   "source": [
    "### i). Duck Typing Philosophy of Python\n",
    " In Python we cannot specify the type explicitly. Based on provided value at runtime the type will be considered automatically. Hence Python is considered as Dynamically Typed Programming Language. \n",
    " \n",
    " def f1(obj):      \n",
    "               obj.talk() \n",
    " \n",
    "What is the type of obj? We cannot decide at the beginning. At runtime we can pass any type.Then how we can decide the type? At runtime if 'it walks like a duck and talks like a duck,it must be duck'. Python follows this principle. This is called Duck Typing Philosophy of Python. "
   ]
  },
  {
   "cell_type": "code",
   "execution_count": 2,
   "metadata": {},
   "outputs": [
    {
     "name": "stdout",
     "output_type": "stream",
     "text": [
      "Quack..Quack..\n",
      "Meow..Meow..\n",
      "Bow..Bow..\n",
      "Myaah..Myaah..\n"
     ]
    }
   ],
   "source": [
    "class Duck:\n",
    "    def talk(self):\n",
    "        print('Quack..Quack..')\n",
    "        \n",
    "class Dog:\n",
    "    def talk(self):\n",
    "        print('Bow..Bow..')\n",
    "        \n",
    "class Cat:\n",
    "    def talk(self):\n",
    "        print('Meow..Meow..')\n",
    "        \n",
    "class Goat:\n",
    "    def talk(self):\n",
    "        print('Myaah..Myaah..')\n",
    "        \n",
    "def f1(obj):\n",
    "    obj.talk()\n",
    "    \n",
    "l = [Duck(), Cat(), Dog(), Goat()]\n",
    "for obj in l:\n",
    "    f1(obj)"
   ]
  },
  {
   "cell_type": "markdown",
   "metadata": {},
   "source": [
    "The problem in this approach is if obj does not contain talk() method then we will get AttributeError.\n",
    "\n",
    "But we can solve this problem by using hasattr() function.\n",
    "\n",
    "**hasattr(obj,'attributename')**\n",
    "\n",
    "attributename can be method name or variable name.\n",
    "\n",
    "Example:"
   ]
  },
  {
   "cell_type": "code",
   "execution_count": 4,
   "metadata": {},
   "outputs": [
    {
     "name": "stdout",
     "output_type": "stream",
     "text": [
      "Quack Quack..\n",
      "Hello Hi..\n",
      "Bow Bow..\n"
     ]
    }
   ],
   "source": [
    "class Duck:\n",
    "    def talk(self):\n",
    "        print('Quack Quack..')\n",
    "        \n",
    "class Human:\n",
    "    def talk(self):\n",
    "        print('Hello Hi..')\n",
    "        \n",
    "class Dog:\n",
    "    def bark(self):\n",
    "        print('Bow Bow..')\n",
    "        \n",
    "def f1(obj):\n",
    "    if hasattr(obj, 'talk'):\n",
    "        obj.talk()\n",
    "    elif hasattr(obj, 'bark'):\n",
    "        obj.bark()\n",
    "        \n",
    "d = Duck()\n",
    "f1(d)\n",
    "\n",
    "h = Human()\n",
    "f1(h)\n",
    "\n",
    "d = Dog()\n",
    "f1(d)\n"
   ]
  },
  {
   "cell_type": "markdown",
   "metadata": {},
   "source": [
    "### ii).Overloading\n",
    "\n",
    "We can same operator or methods for different purposes.\n",
    "\n",
    "There are 3 types of overloading:\n",
    "\n",
    "1). Operator overloading\n",
    "\n",
    "2). Method overloading\n",
    "\n",
    "3). Constructor Overloading"
   ]
  },
  {
   "cell_type": "markdown",
   "metadata": {},
   "source": [
    "#### 1.Operator overloading\n",
    "\n",
    "We can use the same operator for multiple purposes, which is nothing but operator overloading. \n",
    " \n",
    "Python supports operator overloading. \n",
    "\n",
    "Example: "
   ]
  },
  {
   "cell_type": "code",
   "execution_count": 7,
   "metadata": {},
   "outputs": [
    {
     "ename": "TypeError",
     "evalue": "unsupported operand type(s) for +: 'Book' and 'Book'",
     "output_type": "error",
     "traceback": [
      "\u001b[1;31m---------------------------------------------------------------------------\u001b[0m",
      "\u001b[1;31mTypeError\u001b[0m                                 Traceback (most recent call last)",
      "\u001b[1;32m<ipython-input-7-6c04e65a00e0>\u001b[0m in \u001b[0;36m<module>\u001b[1;34m\u001b[0m\n\u001b[0;32m      4\u001b[0m \u001b[0mb1\u001b[0m \u001b[1;33m=\u001b[0m \u001b[0mBook\u001b[0m\u001b[1;33m(\u001b[0m\u001b[1;36m100\u001b[0m\u001b[1;33m)\u001b[0m\u001b[1;33m\u001b[0m\u001b[1;33m\u001b[0m\u001b[0m\n\u001b[0;32m      5\u001b[0m \u001b[0mb2\u001b[0m \u001b[1;33m=\u001b[0m \u001b[0mBook\u001b[0m\u001b[1;33m(\u001b[0m\u001b[1;36m200\u001b[0m\u001b[1;33m)\u001b[0m\u001b[1;33m\u001b[0m\u001b[1;33m\u001b[0m\u001b[0m\n\u001b[1;32m----> 6\u001b[1;33m \u001b[0mprint\u001b[0m\u001b[1;33m(\u001b[0m\u001b[0mb1\u001b[0m\u001b[1;33m+\u001b[0m\u001b[0mb2\u001b[0m\u001b[1;33m)\u001b[0m\u001b[1;33m\u001b[0m\u001b[1;33m\u001b[0m\u001b[0m\n\u001b[0m",
      "\u001b[1;31mTypeError\u001b[0m: unsupported operand type(s) for +: 'Book' and 'Book'"
     ]
    }
   ],
   "source": [
    "class Book:\n",
    "    def __init__(self, pages):\n",
    "        self.pages = pages\n",
    "b1 = Book(100)\n",
    "b2 = Book(200)\n",
    "print(b1+b2)"
   ]
  },
  {
   "cell_type": "markdown",
   "metadata": {},
   "source": [
    "We can overload + operator to work with Book objects also. i.e Python supports Operator Overloading. \n",
    " \n",
    "For every operator Magic Methods are available. To overload any operator we have to override that Method in our class.  Internally + operator is implemented by using __ add __ () method.This method is called magic method for + operator. We have to override this method in our class.  \n",
    " "
   ]
  },
  {
   "cell_type": "code",
   "execution_count": 9,
   "metadata": {},
   "outputs": [
    {
     "name": "stdout",
     "output_type": "stream",
     "text": [
      "The Total Number of pages 300\n"
     ]
    }
   ],
   "source": [
    "class Book:\n",
    "    def __init__(self, pages):\n",
    "        self.pages = pages\n",
    "        \n",
    "    def __add__(self, other):\n",
    "        return self.pages + other.pages\n",
    "    \n",
    "b1 = Book(100)\n",
    "b2 = Book(200)\n",
    "print(f'The Total Number of pages {b1+b2}')"
   ]
  },
  {
   "cell_type": "markdown",
   "metadata": {},
   "source": [
    "The following is the list of operators and corresponding magic methods:\n",
    "    \n",
    "    +    --->  object.__add__(self,other) \n",
    "    -    --->  object.__sub__(self,other) \n",
    "    *    --->  object.__mul__(self,other) \n",
    "    /    --->  object.__div__(self,other) \n",
    "    //    --->  object.__floordiv__(self,other) \n",
    "    %    --->  object.__mod__(self,other) \n",
    "    **    --->  object.__pow__(self,other) \n",
    "    +=    --->  object.__iadd__(self,other) \n",
    "    -=    --->  object.__isub__(self,other) \n",
    "    *=    --->  object.__imul__(self,other) \n",
    "    /=    --->  object.__idiv__(self,other) \n",
    "    //=    --->  object.__ifloordiv__(self,other) \n",
    "    %=    --->  object.__imod__(self,other) \n",
    "    **=    --->  object.__ipow__(self,other) \n",
    "    <    --->  object.__lt__(self,other) \n",
    "    <=    --->  object.__le__(self,other) \n",
    "    >    --->  object.__gt__(self,other) \n",
    "    >=   --->  object.__ge__(self,other) \n",
    "    ==    --->  object.__eq__(self,other) \n",
    "    !=    --->  object.__ne__(self,other) "
   ]
  },
  {
   "cell_type": "markdown",
   "metadata": {},
   "source": [
    "Overloading > amd <= operators for Student class objects"
   ]
  },
  {
   "cell_type": "code",
   "execution_count": 12,
   "metadata": {},
   "outputs": [
    {
     "name": "stdout",
     "output_type": "stream",
     "text": [
      "s1>s2=False\n",
      "s1<s2=True\n",
      "s1>=s2=False\n",
      "s1<=s2=True\n"
     ]
    }
   ],
   "source": [
    "class Student:\n",
    "    def __init__(self, name, marks):\n",
    "        self.name = name\n",
    "        self.marks = marks\n",
    "    def __gt__(self, other):\n",
    "        return self.marks>other.marks\n",
    "    def __le__(self, other):\n",
    "        return self.marks<=other.marks\n",
    "    \n",
    "s1 = Student('Jack', 100)\n",
    "s2 = Student('Ravi', 200)\n",
    "print(f's1>s2={s1>s2}')\n",
    "print(f's1<s2={s1<s2}')\n",
    "print(f's1>=s2={s1>=s2}')\n",
    "print(f's1<=s2={s1<=s2}')\n",
    "\n",
    "\n",
    "\n",
    "\n",
    "\n",
    "    \n",
    "    \n",
    "    "
   ]
  },
  {
   "cell_type": "markdown",
   "metadata": {},
   "source": [
    "Program to overload multiplication operator to work on employee objects"
   ]
  },
  {
   "cell_type": "code",
   "execution_count": 17,
   "metadata": {},
   "outputs": [
    {
     "name": "stdout",
     "output_type": "stream",
     "text": [
      "This month salary is 4200\n"
     ]
    }
   ],
   "source": [
    "class Employee:\n",
    "    def __init__(self, name, salary):\n",
    "        self.name = name\n",
    "        self.salary = salary\n",
    "    def __mul__(self, other):\n",
    "        return self.salary*other.days\n",
    "    \n",
    "class Timesheet:\n",
    "    def __init__(self, name, days):\n",
    "        self.name = name\n",
    "        self.days = days\n",
    "        \n",
    "e = Employee('Jack',600)\n",
    "t = Timesheet('Jack', 7)\n",
    "print(f'This month salary is {e*t}')\n",
    "    \n"
   ]
  },
  {
   "cell_type": "markdown",
   "metadata": {},
   "source": [
    "#### 2. Method Overloading\n",
    "\n",
    "If 2 methods having same name but different type of arguments then those methods are said to be overloaded methods. \n",
    " \n",
    "Eg: m1(int a)       \n",
    "    \n",
    "m1(double d) \n",
    " \n",
    "But in Python Method overloading is not possible. If we are trying to declare multiple methods with same name and different number of arguments then Python will always consider only last method. "
   ]
  },
  {
   "cell_type": "code",
   "execution_count": 23,
   "metadata": {},
   "outputs": [
    {
     "name": "stdout",
     "output_type": "stream",
     "text": [
      "Two-arg Method\n"
     ]
    }
   ],
   "source": [
    "class Test:\n",
    "    def m1(self):\n",
    "        print('No-arg Method')\n",
    "    def m1(self, a):\n",
    "        print('One-arg Method')\n",
    "    def m1(self, a, b):\n",
    "        print('Two-arg Method')\n",
    "\n",
    "t = Test()\n",
    "#t.m1()\n",
    "#t.m1(10)\n",
    "t.m1(10,10)\n",
    "\n",
    "#Consider only last method"
   ]
  },
  {
   "cell_type": "markdown",
   "metadata": {},
   "source": [
    "#### How we can handle overloaded method requirements in Python: \n",
    " \n",
    "Most of the times, if method with variable number of arguments required then we can handle with default arguments or with variable number of argument methods. "
   ]
  },
  {
   "cell_type": "code",
   "execution_count": 25,
   "metadata": {},
   "outputs": [
    {
     "name": "stdout",
     "output_type": "stream",
     "text": [
      "The sum of 2 Numbers 30\n",
      "The sum of 3 Numbers 60\n",
      "Please provide 2 or 3 arguments\n"
     ]
    }
   ],
   "source": [
    "class Test:\n",
    "    def sum(self, a=None, b=None, c=None):\n",
    "        if a!=None and b!=None and c!=None:\n",
    "            print(f'The sum of 3 Numbers {a+b+c}')\n",
    "\n",
    "        elif a!=None and b!=None:\n",
    "            print(f'The sum of 2 Numbers {a+b}')\n",
    "            \n",
    "        else:\n",
    "            print('Please provide 2 or 3 arguments')\n",
    "t=Test()\n",
    "t.sum(10, 20)\n",
    "t.sum(10,20,30)\n",
    "t.sum(10)"
   ]
  },
  {
   "cell_type": "markdown",
   "metadata": {},
   "source": [
    "##### Program with variable number of arguments"
   ]
  },
  {
   "cell_type": "code",
   "execution_count": 27,
   "metadata": {},
   "outputs": [
    {
     "name": "stdout",
     "output_type": "stream",
     "text": [
      "The sum is 60\n",
      "The sum is 64\n",
      "The sum is 0\n"
     ]
    }
   ],
   "source": [
    "class Test:\n",
    "    def sum(self, *a):\n",
    "        total = 0\n",
    "        for x in a:\n",
    "            total = total + x\n",
    "        print(f'The sum is {total}')\n",
    "t=Test()\n",
    "t.sum(10,20,30)\n",
    "t.sum(20,44)\n",
    "t.sum()"
   ]
  },
  {
   "cell_type": "markdown",
   "metadata": {},
   "source": [
    "#### 3.Constructor Overloading\n",
    "Constructor overloading is not possible in Python. If we define multiple constructors then the last constructor will be considered. \n",
    "\n",
    "But based on our requirement we can declare constructor with default arguments and variable number of arguments. "
   ]
  },
  {
   "cell_type": "code",
   "execution_count": 29,
   "metadata": {},
   "outputs": [
    {
     "name": "stdout",
     "output_type": "stream",
     "text": [
      "Constructor with 0|1|2|3 number of arguments\n",
      "Constructor with 0|1|2|3 number of arguments\n",
      "Constructor with 0|1|2|3 number of arguments\n"
     ]
    }
   ],
   "source": [
    "# Constructor with Default Arguments\n",
    "class Test:\n",
    "    def __init__(self, a = None, b = None, c = None):\n",
    "        print('Constructor with 0|1|2|3 number of arguments')\n",
    "        \n",
    "t = Test()\n",
    "t2 = Test(10)\n",
    "t3 = Test(1, 2, 3)\n"
   ]
  },
  {
   "cell_type": "markdown",
   "metadata": {},
   "source": [
    "##### Constructor with variable Number of Arguments"
   ]
  },
  {
   "cell_type": "code",
   "execution_count": 31,
   "metadata": {},
   "outputs": [
    {
     "name": "stdout",
     "output_type": "stream",
     "text": [
      "Constructor with variable number of arguments\n",
      "Constructor with variable number of arguments\n",
      "Constructor with variable number of arguments\n",
      "Constructor with variable number of arguments\n",
      "Constructor with variable number of arguments\n"
     ]
    }
   ],
   "source": [
    "class Test:\n",
    "    def __init__(self, *a):\n",
    "        print('Constructor with variable number of arguments')\n",
    "        \n",
    "t1 = Test()\n",
    "t2 = Test(1, 2)\n",
    "t3 = Test(1, 2, 3)\n",
    "t4 = Test(1, 2, 3, 4, 5)\n",
    "t5 = Test(1, 2, 3, 4, 5, 6, 7)"
   ]
  },
  {
   "cell_type": "markdown",
   "metadata": {},
   "source": [
    "### iii) Method Overriding\n",
    "\n",
    "What ever members available in the parent class are bydefault available to the child class through inheritance. If the child class not satisfied with parent class implementation then child class is allowed to redefine that method in the child class based on its requirement. This concept is called overriding. Overriding concept applicable for both methods and constructors. "
   ]
  },
  {
   "cell_type": "code",
   "execution_count": 33,
   "metadata": {},
   "outputs": [
    {
     "name": "stdout",
     "output_type": "stream",
     "text": [
      "Gold + Land + Cash + Power\n",
      "Silver\n"
     ]
    }
   ],
   "source": [
    "class P:\n",
    "    def property(self):\n",
    "        print('Gold + Land + Cash + Power')\n",
    "    def marry(self):\n",
    "        print('Gold')\n",
    "class C(P):\n",
    "    def marry(self):\n",
    "        print('Silver')\n",
    "        \n",
    "c = C()\n",
    "c.property()\n",
    "c.marry()"
   ]
  },
  {
   "cell_type": "markdown",
   "metadata": {},
   "source": [
    "From overriding method of child class, we can call parent class method also by using super() method."
   ]
  },
  {
   "cell_type": "code",
   "execution_count": 35,
   "metadata": {},
   "outputs": [
    {
     "name": "stdout",
     "output_type": "stream",
     "text": [
      "Gold + Land + Cash + Power\n",
      "Gold\n",
      "Silver\n"
     ]
    }
   ],
   "source": [
    "class P:\n",
    "    def property(self):\n",
    "        print('Gold + Land + Cash + Power')\n",
    "    def marry(self):\n",
    "        print('Gold')\n",
    "class C(P):\n",
    "    def marry(self):\n",
    "        super().marry()\n",
    "        print('Silver')\n",
    "        \n",
    "c = C()\n",
    "c.property()\n",
    "c.marry()"
   ]
  },
  {
   "cell_type": "markdown",
   "metadata": {},
   "source": [
    "Constructor Overriding"
   ]
  },
  {
   "cell_type": "code",
   "execution_count": 37,
   "metadata": {},
   "outputs": [
    {
     "name": "stdout",
     "output_type": "stream",
     "text": [
      "Child Cosntructor\n"
     ]
    }
   ],
   "source": [
    "class P:\n",
    "    def __init__(self):\n",
    "        print('Parent Constructor')\n",
    "        \n",
    "class C(P):\n",
    "    def __init__(self):\n",
    "        print('Child Cosntructor')\n",
    "    \n",
    "c = C()"
   ]
  },
  {
   "cell_type": "markdown",
   "metadata": {},
   "source": [
    "In the above example,if child class does not contain constructor then parent class constructor will be executed \n",
    " \n",
    "From child class constuctor we can call parent class constructor by using super() method. \n",
    " \n",
    "#### Demo Program to call Parent class constructor by using super(): "
   ]
  },
  {
   "cell_type": "code",
   "execution_count": 41,
   "metadata": {},
   "outputs": [
    {
     "name": "stdout",
     "output_type": "stream",
     "text": [
      "Employee Name is Jack\n",
      "Employee age is 23\n",
      "Employee Number is 44632\n",
      "Employee Salary is 28000\n",
      "Employee Name is Sunny\n",
      "Employee age is 34\n",
      "Employee Number is 45667\n",
      "Employee Salary is 30000\n"
     ]
    }
   ],
   "source": [
    "class Person:\n",
    "    def __init__(self, name, age):\n",
    "        self.name = name\n",
    "        self.age = age\n",
    "        \n",
    "class Employee(Person):\n",
    "    def __init__(self, name, age, eno, esal):\n",
    "        super().__init__(name, age)\n",
    "        self.eno = eno\n",
    "        self.esal = esal\n",
    "        \n",
    "    def display(self):\n",
    "        print(f'Employee Name is {self.name}')\n",
    "        print(f'Employee age is {self.age}')\n",
    "        print(f'Employee Number is {self.eno}')\n",
    "        print(f'Employee Salary is {self.esal}')\n",
    "e1 = Employee('Jack', 23, 44632, 28000)\n",
    "e1.display()\n",
    "\n",
    "e2 = Employee('Sunny', 34, 45667, 30000)\n",
    "e2.display()"
   ]
  },
  {
   "cell_type": "code",
   "execution_count": null,
   "metadata": {},
   "outputs": [],
   "source": []
  }
 ],
 "metadata": {
  "hide_input": false,
  "kernelspec": {
   "display_name": "Python 3",
   "language": "python",
   "name": "python3"
  },
  "language_info": {
   "codemirror_mode": {
    "name": "ipython",
    "version": 3
   },
   "file_extension": ".py",
   "mimetype": "text/x-python",
   "name": "python",
   "nbconvert_exporter": "python",
   "pygments_lexer": "ipython3",
   "version": "3.7.7"
  }
 },
 "nbformat": 4,
 "nbformat_minor": 4
}
